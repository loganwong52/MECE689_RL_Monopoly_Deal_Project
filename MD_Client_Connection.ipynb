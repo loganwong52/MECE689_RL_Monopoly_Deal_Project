{
 "cells": [
  {
   "cell_type": "code",
   "execution_count": null,
   "id": "4ec01e7a-f6b4-45ee-baf9-1096a4708049",
   "metadata": {},
   "outputs": [],
   "source": [
    "import os\n",
    "import socket\n",
    "import gymnasium as gym\n",
    "import json\n",
    "import time\n",
    "import subprocess\n",
    "import struct, sys, time\n",
    "import uuid\n",
    "import threading\n",
    "import gzip\n",
    "\n",
    "from stable_baselines3 import PPO\n",
    "\n",
    "from stable_baselines3.common.monitor import Monitor\n",
    "from stable_baselines3.common.evaluation import evaluate_policy"
   ]
  },
  {
   "cell_type": "code",
   "execution_count": null,
   "id": "aa385ca7-304c-47b2-9334-a6ae7a592504",
   "metadata": {},
   "outputs": [],
   "source": []
  },
  {
   "cell_type": "code",
   "execution_count": null,
   "id": "36bb7dc0-94ab-489d-8079-b78a78766c04",
   "metadata": {},
   "outputs": [],
   "source": []
  },
  {
   "cell_type": "code",
   "execution_count": null,
   "id": "04dac6e2-277c-4f5e-8f74-120c0b8b5309",
   "metadata": {},
   "outputs": [],
   "source": [
    "HOST = \"127.0.0.1\"\n",
    "PORT = 27599\n",
    "PROTOCOL_VERSION = 24"
   ]
  },
  {
   "cell_type": "code",
   "execution_count": null,
   "id": "bb15b659-c515-40bd-923d-ff19efc3aede",
   "metadata": {},
   "outputs": [],
   "source": [
    "def write_utf(s):\n",
    "    encoded = s.encode(\"utf-8\")\n",
    "    length = len(encoded)\n",
    "    return length.to_bytes(2, byteorder=\"big\") + encoded"
   ]
  },
  {
   "cell_type": "code",
   "execution_count": null,
   "id": "bfd52031-f6a0-40aa-b581-863b02dc7e00",
   "metadata": {},
   "outputs": [],
   "source": [
    "packet_dict = {\n",
    "    \"PacketPing\": 1,\n",
    "    \"PacketInitiateLogin\": 2,  # Used this\n",
    "    \"PacketLogin\": 3,          # Used this\n",
    "    \"PacketServerInfo\": 4,\n",
    "    \"PacketHandshake\": 5,\n",
    "    \"PacketKick\": 6,\n",
    "    \"PacketQuit\": 7,\n",
    "    \"PacketKeepConnected\": 8,    # Might need this\n",
    "    \"PacketMessage\": 9,\n",
    "    \"PacketPropertyColors\": 10,\n",
    "    \"PacketCardCollectionData\": 11,\n",
    "    \"PacketCardData\": 12,\n",
    "    \"PacketCardActionRentData\": 13,    # ACTION\n",
    "    \"PacketCardDescription\": 14,       # ACTION\n",
    "    \"PacketCardPropertyData\": 15,     \n",
    "    \"PacketCardBuildingData\": 16,\n",
    "    \"PacketDestroyCardCollection\": 17,\n",
    "    \"PacketDestroyCard\": 18,\n",
    "    \"PacketPropertySetColor\": 19,\n",
    "    \"PacketStatus\": 20,\n",
    "    \"PacketMoveCard\": 21,              # ACTION\n",
    "    \"PacketMovePropertySet\": 22,       # ACTION?\n",
    "    \"PacketMoveRevealCard\": 23,        # ACTION?\n",
    "    \"PacketMoveUnknownCard\": 24,\n",
    "    \"PacketPlayerInfo\": 25,\n",
    "    \"PacketPropertySetData\": 26,\n",
    "    \"PacketUpdatePlayer\": 27,\n",
    "    \"PacketDestroyPlayer\": 28,\n",
    "    \"PacketRefresh\": 29,\n",
    "    \"PacketUnknownCardCollectionData\": 30,\n",
    "    \"PacketUndoCardStatus\": 31,\n",
    "    \"PacketSoundData\": 32,\n",
    "    \"PacketPlaySound\": 33,\n",
    "    \"PacketPlayerButton\": 34,\n",
    "    \"PacketDestroyButton\": 35,\n",
    "    \"PacketInfoPlate\": 36,\n",
    "    \"PacketDestroyInfoPlate\": 37,\n",
    "    \"PacketCardButtons\": 38,\n",
    "    \"PacketTurnOrder\": 39,\n",
    "    \"PacketGameRules\": 40,\n",
    "    \"PacketSetChatOpen\": 41,\n",
    "    \"PacketRemoveMessageCategory\": 42,\n",
    "    \"PacketSelectCardCombo\": 43,           # ACTION\n",
    "    \"PacketSetAwaitingResponse\": 44,\n",
    "    \"PacketChat\": 45,\n",
    "    \"PacketActionAccept\": 46,\n",
    "    \"PacketActionDraw\": 47,                 # ACTION\n",
    "    \"PacketActionEndTurn\": 48,              # ACTION\n",
    "    \"PacketActionMoveProperty\": 49,         # ACTION\n",
    "    \"PacketActionChangeSetColor\": 50,       # ACTION\n",
    "    \"PacketActionPay\": 51,                  # ACTION\n",
    "    \"PacketActionPlayCardBuilding\": 52,     # ACTION\n",
    "    \"PacketActionDiscard\": 53,              # ACTION\n",
    "    \"PacketActionSelectPlayer\": 54,         \n",
    "    \"PacketActionSelectProperties\": 55,       \n",
    "    \"PacketActionSelectPlayerMonopoly\": 56,\n",
    "    \"PacketActionUndoCard\": 57,\n",
    "    \"PacketActionClickLink\": 58,\n",
    "    \"PacketActionButtonClick\": 59,\n",
    "    \"PacketActionUseCardButton\": 60,\n",
    "    \"PacketActionRemoveBuilding\": 61,           # ACTION\n",
    "    \"PacketActionSelectCardCombo\": 62,          # ACTION\n",
    "    \"PacketActionMoveHandCard\": 63,             # ACTION\n",
    "    \"PacketSoundCache\": 64,\n",
    "    \"PacketActionStatePlayerTurn\": 65,\n",
    "    \"PacketActionStateBasic\": 66,\n",
    "    \"PacketActionStateRent\": 67,\n",
    "    \"PacketActionStatePropertiesSelected\": 68,\n",
    "    \"PacketActionStatePropertySetTargeted\": 69,\n",
    "    \"PacketUpdateActionStateTarget\": 70\n",
    "}"
   ]
  },
  {
   "cell_type": "code",
   "execution_count": null,
   "id": "9bb53c39-8a41-4b4c-89e3-ab3d0febd290",
   "metadata": {},
   "outputs": [],
   "source": []
  },
  {
   "cell_type": "code",
   "execution_count": null,
   "id": "a08be78a-f553-478e-a41b-82d7c6ec4251",
   "metadata": {},
   "outputs": [],
   "source": []
  },
  {
   "cell_type": "code",
   "execution_count": null,
   "id": "b8ecf2b1-4bd1-4419-b838-5c35d3d75e06",
   "metadata": {},
   "outputs": [],
   "source": []
  },
  {
   "cell_type": "code",
   "execution_count": null,
   "id": "d1b6c3c4-420a-4187-ae87-8709296bb933",
   "metadata": {},
   "outputs": [],
   "source": []
  },
  {
   "cell_type": "code",
   "execution_count": null,
   "id": "99699839-3dc3-44bb-a891-ce49a2329e26",
   "metadata": {},
   "outputs": [],
   "source": []
  },
  {
   "cell_type": "markdown",
   "id": "48739e7a-69fe-493c-aa04-0b2bfd6bf3e1",
   "metadata": {},
   "source": [
    "## Initiate Login"
   ]
  },
  {
   "cell_type": "code",
   "execution_count": null,
   "id": "5dce8268-311b-4f56-83e7-636baebdc52d",
   "metadata": {},
   "outputs": [],
   "source": [
    "# PacketInitiateLogin ID = 2 (registered order in NetHandler), protocolVersion = 24\n",
    "PACKET_ID = 2\n",
    "\n",
    "sock = socket.create_connection((HOST, PORT))\n",
    "\n",
    "# build payload: single int (protocolVersion)\n",
    "payload = struct.pack(\">i\", PROTOCOL_VERSION)\n",
    "payload_len = len(payload)\n",
    "\n",
    "# Header as separate fields, not combined struct\n",
    "header = struct.pack(\">h\", PACKET_ID) + struct.pack(\">i\", payload_len)\n",
    "msg = header + payload\n",
    "\n",
    "sock.sendall(msg)\n",
    "print(\"Sent PacketInitiateLogin(protocolVersion=24)\")\n",
    "\n",
    "# try to read a response header (2 bytes id + 4 bytes len)\n",
    "hdr = sock.recv(6)\n",
    "if len(hdr) < 6:\n",
    "    print(\"No response header received (got bytes):\", hdr)\n",
    "else:\n",
    "    pkt_id, pkt_len = struct.unpack(\">hI\", hdr)\n",
    "    print(\"Received packet id:\", pkt_id, \"payload length:\", pkt_len)\n",
    "    if pkt_len:\n",
    "        data = b''\n",
    "        while len(data) < pkt_len:\n",
    "            chunk = sock.recv(pkt_len - len(data))\n",
    "            if not chunk:\n",
    "                break\n",
    "            data += chunk\n",
    "        print(\"Payload bytes:\", data)\n",
    "\n",
    "# keep socket open"
   ]
  },
  {
   "cell_type": "code",
   "execution_count": null,
   "id": "391912cb-3c98-49a0-82eb-6099d6178bf9",
   "metadata": {},
   "outputs": [],
   "source": []
  },
  {
   "cell_type": "code",
   "execution_count": null,
   "id": "98044913-9975-48dd-97a0-d166a64cb19f",
   "metadata": {},
   "outputs": [],
   "source": []
  },
  {
   "cell_type": "code",
   "execution_count": null,
   "id": "08c48f15-d58a-428f-a16a-a98f047accab",
   "metadata": {},
   "outputs": [],
   "source": []
  },
  {
   "cell_type": "markdown",
   "id": "0f7069c8-1ed0-4f4e-a469-ccbc9ce1d586",
   "metadata": {},
   "source": [
    "## Login"
   ]
  },
  {
   "cell_type": "code",
   "execution_count": null,
   "id": "c6c4cc07-ea58-43a9-b8da-24e43bc3828b",
   "metadata": {},
   "outputs": [],
   "source": [
    "# PacketLogin ID = 3\n",
    "PACKET_ID = 3\n",
    "CLIENT_VERSION = \"1.0.0\"\n",
    "PLAYER_NAME = \"RLAgent\"\n",
    "UUID_BYTES = uuid.uuid4().bytes\n",
    "\n",
    "# 1. protocolVersion (int)\n",
    "proto_bytes = struct.pack(\">i\", PROTOCOL_VERSION)\n",
    "\n",
    "# 2. clientVersion (String) - FIXED: int length prefix + UTF-16BE chars\n",
    "client_version_chars = CLIENT_VERSION.encode('utf-16be')\n",
    "client_version_payload = struct.pack(\">i\", len(CLIENT_VERSION)) + client_version_chars  # int length, not short\n",
    "\n",
    "# 3. id (byte[] - 16 bytes)\n",
    "id_payload = struct.pack(\">i\", 16) + UUID_BYTES  # Length prefix (16) + 16 bytes of UUID\n",
    "\n",
    "# 4. name (String) - FIXED: int length prefix + UTF-16BE chars  \n",
    "name_chars = PLAYER_NAME.encode('utf-16be')\n",
    "name_payload = struct.pack(\">i\", len(PLAYER_NAME)) + name_chars  # int length, not short\n",
    "\n",
    "# Combine all fields\n",
    "payload = proto_bytes + client_version_payload + id_payload + name_payload\n",
    "\n",
    "# Header: packet ID (short) + payload length (int)\n",
    "header = struct.pack(\">h\", PACKET_ID) + struct.pack(\">i\", len(payload))\n",
    "msg = header + payload\n",
    "\n",
    "print(f\"Payload length: {len(payload)}\")\n",
    "print(f\"Client version payload: {client_version_payload.hex()}\")\n",
    "print(f\"Name payload: {name_payload.hex()}\")"
   ]
  },
  {
   "cell_type": "code",
   "execution_count": null,
   "id": "d0d6eda0-b18b-4fcd-a77c-c12f95385631",
   "metadata": {},
   "outputs": [],
   "source": [
    "# Send the login packet\n",
    "sock.sendall(msg)\n",
    "print(\"Sent PacketLogin with corrected string format!\")\n",
    "\n",
    "# Read response\n",
    "hdr = sock.recv(6)\n",
    "if len(hdr) == 6:\n",
    "    pkt_id = struct.unpack(\">h\", hdr[:2])[0]\n",
    "    pkt_len = struct.unpack(\">i\", hdr[2:6])[0]\n",
    "    print(\"Received packet id:\", pkt_id, \"payload length:\", pkt_len)\n",
    "    \n",
    "    if pkt_len > 0:\n",
    "        data = b''\n",
    "        while len(data) < pkt_len:\n",
    "            chunk = sock.recv(pkt_len - len(data))\n",
    "            if not chunk:\n",
    "                break\n",
    "            data += chunk\n",
    "        print(\"Login response payload:\", data.hex())\n",
    "    else:\n",
    "        print(\"Login successful (no payload)\")"
   ]
  },
  {
   "cell_type": "code",
   "execution_count": null,
   "id": "fb7ed517-9fed-41f6-ab1c-86d359e5d6f4",
   "metadata": {},
   "outputs": [],
   "source": []
  },
  {
   "cell_type": "code",
   "execution_count": null,
   "id": "d1ee796d-6280-4b8b-8d9d-bec9efad142a",
   "metadata": {},
   "outputs": [],
   "source": []
  },
  {
   "cell_type": "markdown",
   "id": "dea8c782-114e-4b13-a7c6-c585dc337774",
   "metadata": {},
   "source": [
    "## Keep Connected"
   ]
  },
  {
   "cell_type": "code",
   "execution_count": null,
   "id": "4b776d13-cafb-4440-b121-0572c3a87c69",
   "metadata": {},
   "outputs": [],
   "source": [
    "def send_keep_alive(sock):\n",
    "    \"\"\"Send keep-alive packet to prevent timeout\"\"\"\n",
    "    # PacketKeepConnected is likely ID 7 (check your NetHandler order)\n",
    "    KEEP_CONNECTED_ID = 8\n",
    "    \n",
    "    header = struct.pack(\">h\", 8) + struct.pack(\">i\", 0)  # No payload\n",
    "    sock.sendall(header)\n",
    "    # print(\"Sent keep-alive packet\")\n",
    "\n",
    "def start_keep_alive_loop(sock, interval=20):\n",
    "    \"\"\"Send keep-alive packets regularly\"\"\"\n",
    "    while True:\n",
    "        time.sleep(interval)\n",
    "        try:\n",
    "            send_keep_alive(sock)\n",
    "        except:\n",
    "            break  # Stop if connection is lost"
   ]
  },
  {
   "cell_type": "code",
   "execution_count": null,
   "id": "5735f605-aa45-44e0-bceb-7b80646dde0a",
   "metadata": {},
   "outputs": [],
   "source": [
    "# Start keep-alive thread after successful login\n",
    "keep_alive_thread = threading.Thread(\n",
    "    target=start_keep_alive_loop, \n",
    "    args=(sock,), \n",
    "    daemon=True\n",
    ")\n",
    "keep_alive_thread.start()\n",
    "print(\"Eternally connected\")"
   ]
  },
  {
   "cell_type": "code",
   "execution_count": null,
   "id": "0ff9832f-be4a-471a-8d70-71d2134d623b",
   "metadata": {},
   "outputs": [],
   "source": []
  },
  {
   "cell_type": "code",
   "execution_count": null,
   "id": "3aa0b215-0cf3-4e06-86e5-3d3ac60dd143",
   "metadata": {},
   "outputs": [],
   "source": []
  },
  {
   "cell_type": "code",
   "execution_count": null,
   "id": "502ef566-c9b6-48b9-b2a7-d8edc0ff277c",
   "metadata": {},
   "outputs": [],
   "source": [
    "def listen_for_packets(sock):\n",
    "    \"\"\"Packet listener with decompression\"\"\"\n",
    "    print(\"Starting packet listener...\")\n",
    "    while True:\n",
    "        try:\n",
    "            hdr = sock.recv(6)\n",
    "            if len(hdr) < 6:\n",
    "                print(\"Connection closed\")\n",
    "                break\n",
    "                \n",
    "            pkt_id = struct.unpack(\">h\", hdr[:2])[0]\n",
    "            pkt_len = struct.unpack(\">i\", hdr[2:6])[0]\n",
    "            \n",
    "            print(f\"Received packet ID: {pkt_id}, Length: {pkt_len}\")\n",
    "            \n",
    "            if pkt_len > 0:\n",
    "                data = b''\n",
    "                while len(data) < pkt_len:\n",
    "                    chunk = sock.recv(pkt_len - len(data))\n",
    "                    if not chunk:\n",
    "                        break\n",
    "                    data += chunk\n",
    "                \n",
    "                # Handle PacketMessage (ID 9) - compressed messages\n",
    "                if pkt_id == 9:\n",
    "                    try:\n",
    "                        # Skip first 4 bytes (they seem to be a header)\n",
    "                        compressed_data = data[4:]\n",
    "                        \n",
    "                        # Decompress the gzip data\n",
    "                        decompressed = gzip.decompress(compressed_data)\n",
    "                        message = decompressed.decode('utf-8')\n",
    "                        print(f\"Server message: {message}\")\n",
    "                    except Exception as e:\n",
    "                        print(f\"Decompression failed: {e}\")\n",
    "                        print(f\"Raw data: {data.hex()}\")\n",
    "                else:\n",
    "                    print(f\"Payload: {data.hex()}\")\n",
    "                    \n",
    "        except Exception as e:\n",
    "            print(f\"Listener error: {e}\")\n",
    "            break"
   ]
  },
  {
   "cell_type": "code",
   "execution_count": null,
   "id": "ea412dd4-1b6b-4b58-af11-dbba6116abcf",
   "metadata": {},
   "outputs": [],
   "source": [
    "# listener_thread = threading.Thread(\n",
    "#     target=listen_for_packets, \n",
    "#     args=(sock,), \n",
    "#     daemon=True\n",
    "# )\n",
    "# listener_thread.start()\n",
    "\n",
    "# print(\"Packet listener started. Now try your commands again...\")"
   ]
  },
  {
   "cell_type": "code",
   "execution_count": null,
   "id": "f58d11ab-23f3-4c6b-8992-6b7edb1a2ead",
   "metadata": {},
   "outputs": [],
   "source": []
  },
  {
   "cell_type": "code",
   "execution_count": null,
   "id": "454f7b88-8d8e-472c-80f6-ba68126c6b94",
   "metadata": {},
   "outputs": [],
   "source": []
  },
  {
   "cell_type": "code",
   "execution_count": null,
   "id": "8e99b2d9-2118-4f3b-94a4-8d040a1321ab",
   "metadata": {},
   "outputs": [],
   "source": []
  },
  {
   "cell_type": "code",
   "execution_count": null,
   "id": "a5af2dbf-2603-437e-aa63-c98e08803e2b",
   "metadata": {},
   "outputs": [],
   "source": []
  },
  {
   "cell_type": "code",
   "execution_count": null,
   "id": "14347d4b-814a-474e-9f9b-8426f511dc12",
   "metadata": {},
   "outputs": [],
   "source": []
  },
  {
   "cell_type": "code",
   "execution_count": null,
   "id": "856cbdfa-7d9d-42dc-a048-6cc833189bb5",
   "metadata": {},
   "outputs": [],
   "source": []
  },
  {
   "cell_type": "code",
   "execution_count": null,
   "id": "3607d408-fef6-426f-ab3f-c1d0f44635d8",
   "metadata": {},
   "outputs": [],
   "source": []
  },
  {
   "cell_type": "markdown",
   "id": "75731f5d-4eb6-41db-ba22-d08ed42d1ecf",
   "metadata": {},
   "source": [
    "## Send Chat function"
   ]
  },
  {
   "cell_type": "code",
   "execution_count": null,
   "id": "2528f0c5-2142-471c-a3e2-7e1baa69b6f7",
   "metadata": {},
   "outputs": [],
   "source": [
    "def send_chat_command(sock, command):\n",
    "    \"\"\"Send a server command via chat (requires OP permissions first)\"\"\"\n",
    "    message_bytes = command.encode('utf-16be')\n",
    "    payload = struct.pack(\">i\", len(command)) + message_bytes\n",
    "    header = struct.pack(\">h\", packet_dict[\"PacketChat\"]) + struct.pack(\">i\", len(payload)) \n",
    "    sock.sendall(header + payload)"
   ]
  },
  {
   "cell_type": "code",
   "execution_count": null,
   "id": "820acf2e-0a3d-4b0e-8ac0-83e2c388c049",
   "metadata": {},
   "outputs": [],
   "source": []
  },
  {
   "cell_type": "code",
   "execution_count": null,
   "id": "e58ad330-39f7-4d7c-aafd-fda1a2840dd7",
   "metadata": {},
   "outputs": [],
   "source": []
  },
  {
   "cell_type": "code",
   "execution_count": null,
   "id": "0781adc4-e4ea-4d54-bc90-cb5c82c0e2dc",
   "metadata": {},
   "outputs": [],
   "source": []
  },
  {
   "cell_type": "code",
   "execution_count": null,
   "id": "01c3cf1f-5e85-429d-b034-029f814b7bb7",
   "metadata": {},
   "outputs": [],
   "source": [
    "# First make yourself OP, then add bot\n",
    "# Give yourself OP permissions\n",
    "send_chat_command(sock, f\"/op {PLAYER_NAME}\")"
   ]
  },
  {
   "cell_type": "code",
   "execution_count": null,
   "id": "df773ed4-046e-4b87-a490-905b474c5947",
   "metadata": {},
   "outputs": [],
   "source": [
    "# Add a bot named EasyBot\n",
    "send_chat_command(sock, \"/addbot Bot1\")"
   ]
  },
  {
   "cell_type": "code",
   "execution_count": null,
   "id": "ff2037cf-27ae-4faa-a1bf-b2f74393b554",
   "metadata": {},
   "outputs": [],
   "source": [
    "send_chat_command(sock, \"/kick Logan\")"
   ]
  },
  {
   "cell_type": "code",
   "execution_count": null,
   "id": "fdcce23f-069f-4fec-814f-7ef922f54041",
   "metadata": {},
   "outputs": [],
   "source": [
    "# Send command to start the game\n",
    "send_chat_command(sock, \"/start\")"
   ]
  },
  {
   "cell_type": "code",
   "execution_count": null,
   "id": "2e491e2f-3a27-4f4e-9e5e-0c712159f361",
   "metadata": {},
   "outputs": [],
   "source": [
    "# Have your bot check the turn order\n",
    "send_chat_command(sock, \"/listplayers\")"
   ]
  },
  {
   "cell_type": "code",
   "execution_count": null,
   "id": "8b3015fc-69c7-4319-9a43-ab5cc18df37e",
   "metadata": {},
   "outputs": [],
   "source": [
    "send_chat_command(sock, \"/nextturn\")"
   ]
  },
  {
   "cell_type": "code",
   "execution_count": null,
   "id": "a3043058-222f-47af-a63c-7c8cd30e755b",
   "metadata": {},
   "outputs": [],
   "source": []
  },
  {
   "cell_type": "code",
   "execution_count": null,
   "id": "61b91994-4f4a-406d-b497-25d0fb54b32b",
   "metadata": {},
   "outputs": [],
   "source": []
  },
  {
   "cell_type": "code",
   "execution_count": null,
   "id": "24a4bb88-6933-4363-82a2-e56048dcd7f0",
   "metadata": {},
   "outputs": [],
   "source": []
  },
  {
   "cell_type": "code",
   "execution_count": null,
   "id": "f3b03752-607f-4c46-b1c4-9926342fdcf0",
   "metadata": {},
   "outputs": [],
   "source": []
  },
  {
   "cell_type": "markdown",
   "id": "6e9b1f76-4134-4aeb-8c40-be52ed2f01a3",
   "metadata": {},
   "source": [
    "# Actions"
   ]
  },
  {
   "cell_type": "code",
   "execution_count": null,
   "id": "84aaabe3-74ee-40be-a715-87b35f8a3743",
   "metadata": {},
   "outputs": [],
   "source": [
    "# # These are the REAL action packets your RL agent should use:\n",
    "# def send_end_turn(sock):\n",
    "#     \"\"\"PacketActionEndTurn - ID 5\"\"\"\n",
    "#     header = struct.pack(\">h\", 5) + struct.pack(\">i\", 0)\n",
    "#     sock.sendall(header)\n",
    "\n",
    "# def send_draw_card(sock):\n",
    "#     \"\"\"PacketActionDraw - ID 6\"\"\"  \n",
    "#     header = struct.pack(\">h\", 6) + struct.pack(\">i\", 0)\n",
    "#     sock.sendall(header)\n",
    "\n",
    "# def send_play_card(sock, card_id):\n",
    "#     \"\"\"PacketActionPlayCard - ID 7 with card_id payload\"\"\"\n",
    "#     payload = struct.pack(\">i\", card_id)  # Assuming card_id is int\n",
    "#     header = struct.pack(\">h\", 7) + struct.pack(\">i\", len(payload))\n",
    "#     sock.sendall(header + payload)\n",
    "\n",
    "# def send_select_player(sock, player_id):\n",
    "#     \"\"\"PacketActionSelectPlayer - ID 8 with player_id payload\"\"\"\n",
    "#     payload = struct.pack(\">i\", player_id)\n",
    "#     header = struct.pack(\">h\", 8) + struct.pack(\">i\", len(payload))\n",
    "#     sock.sendall(header + payload)"
   ]
  },
  {
   "cell_type": "code",
   "execution_count": null,
   "id": "67cf0b8c-6204-4a41-adf2-e2e567bec2d6",
   "metadata": {},
   "outputs": [],
   "source": []
  },
  {
   "cell_type": "code",
   "execution_count": null,
   "id": "e4bb7291-8e54-4a3a-a5ce-615ba1111ceb",
   "metadata": {},
   "outputs": [],
   "source": []
  },
  {
   "cell_type": "code",
   "execution_count": null,
   "id": "27b6a8a9-d4ca-4de9-a198-4e6cfc43afa2",
   "metadata": {},
   "outputs": [],
   "source": [
    "# class MonopolyDealClient:\n",
    "#     def __init__(self, host='localhost', port=27599):\n",
    "#         self.host = host\n",
    "#         self.port = port\n",
    "#         self.sock = socket.socket(socket.AF_INET, socket.SOCK_STREAM)\n",
    "#         self.sock.connect((host, port))\n",
    "#         print(\"Connected to Monopoly Deal server!\")\n",
    "\n",
    "#     def send(self, message):\n",
    "#         self.sock.sendall((message + \"\\n\").encode())\n",
    "\n",
    "#     def receive(self):\n",
    "#         return self.sock.recv(4096).decode()\n",
    "\n",
    "#     def close(self):\n",
    "#         self.sock.close()\n"
   ]
  },
  {
   "cell_type": "code",
   "execution_count": null,
   "id": "a242fb2b-7829-4a84-9628-d17e315ce8bd",
   "metadata": {},
   "outputs": [],
   "source": [
    "# class MonopolyDealEnv(gym.Env):\n",
    "#     def __init__(self, host='localhost', port=12345):  # Adjust port based on server\n",
    "#         super().__init__()\n",
    "#         # Start the server (optional, if not running in another terminal)\n",
    "#         self.server_process = subprocess.Popen(['mvn', 'exec:java', '-pl', 'server'], cwd='server')\n",
    "#         # Connect to the server\n",
    "#         self.sock = socket.socket(socket.AF_INET, socket.SOCK_STREAM)\n",
    "#         self.sock.connect((host, port))\n",
    "#         # Define action and observation spaces (customize based on game)\n",
    "#         self.action_space = gym.spaces.Discrete(10)  # Example: 10 possible actions (e.g., play card 0-9)\n",
    "#         self.observation_space = gym.spaces.Dict({  # Example: game state as a dictionary\n",
    "#             \"board\": gym.spaces.Box(low=0, high=100, shape=(10,), dtype=int),\n",
    "#             \"hand\": gym.spaces.Box(low=0, high=100, shape=(5,), dtype=int)\n",
    "#         })\n",
    "\n",
    "#     def reset(self, seed=None, options=None):\n",
    "#         # Send reset command (adjust based on server protocol)\n",
    "#         self.sock.sendall(\"RESET\\n\".encode())  # Add \\n if server expects it\n",
    "#         response = self.sock.recv(1024).decode()\n",
    "#         try:\n",
    "#             state = json.loads(response)  # Assume JSON response\n",
    "#         except json.JSONDecodeError:\n",
    "#             state = response  # Fallback to raw text if not JSON\n",
    "#         return state, {}\n",
    "\n",
    "#     def step(self, action):\n",
    "#         # Send action (adjust format based on server)\n",
    "#         self.sock.sendall(f\"PLAY_CARD {action}\\n\".encode())\n",
    "#         response = self.sock.recv(1024).decode()\n",
    "#         try:\n",
    "#             data = json.loads(response)\n",
    "#             state = data.get(\"state\", {})\n",
    "#             reward = data.get(\"reward\", 0.0)\n",
    "#             done = data.get(\"done\", False)\n",
    "#             info = data.get(\"info\", {})\n",
    "#         except json.JSONDecodeError:\n",
    "#             # Fallback if response is not JSON\n",
    "#             state = response\n",
    "#             reward = 0.0\n",
    "#             done = False\n",
    "#             info = {}\n",
    "#         return state, reward, done, False, info\n",
    "\n",
    "#     def close(self):\n",
    "#         self.sock.close()\n",
    "#         if hasattr(self, 'server_process'):\n",
    "#             self.server_process.terminate()"
   ]
  },
  {
   "cell_type": "code",
   "execution_count": null,
   "id": "ad674dd7-c930-4e3f-88e3-c8e97363b0b4",
   "metadata": {},
   "outputs": [],
   "source": [
    "# class MonopolyDealEnv(gym.Env):\n",
    "#     def __init__(self, host='localhost', port=27599):\n",
    "#         super().__init__()\n",
    "#         self.sock = socket.socket(socket.AF_INET, socket.SOCK_STREAM)\n",
    "#         self.sock.connect((host, port))\n",
    "#         self.sock.sendall(\"addbot RLBot\\n\".encode())\n",
    "#         self.action_space = gym.spaces.Discrete(20)\n",
    "#         self.observation_space = gym.spaces.Dict({\n",
    "#             \"hand\": gym.spaces.Box(low=0, high=100, shape=(5,), dtype=int),\n",
    "#             \"board\": gym.spaces.Box(low=0, high=100, shape=(10,), dtype=int),\n",
    "#             \"turn\": gym.spaces.Discrete(4)\n",
    "#         })\n",
    "\n",
    "#     def reset(self, seed=None, options=None):\n",
    "#         self.sock.sendall(\"reset\\n\".encode())\n",
    "#         time.sleep(0.1)\n",
    "#         response = self.sock.recv(4096).decode()\n",
    "#         try:\n",
    "#             state = json.loads(response)\n",
    "#         except json.JSONDecodeError:\n",
    "#             state = {\"raw\": response}\n",
    "#         self.sock.sendall(\"start\\n\".encode())\n",
    "#         time.sleep(0.1)\n",
    "#         response = self.sock.recv(4096).decode()\n",
    "#         try:\n",
    "#             state = json.loads(response)\n",
    "#         except json.JSONDecodeError:\n",
    "#             state = {\"raw\": response}\n",
    "#         return state, {}\n",
    "\n",
    "#     def step(self, action):\n",
    "#         commands = {0: \"nextturn\", 1: \"createcard action dealbreaker\"}\n",
    "#         command = commands.get(action, f\"PLAY_CARD {action}\")\n",
    "#         self.sock.sendall(f\"{command}\\n\".encode())\n",
    "#         time.sleep(0.1)\n",
    "#         response = self.sock.recv(4096).decode()\n",
    "#         try:\n",
    "#             data = json.loads(response)\n",
    "#             state = data.get(\"state\", {})\n",
    "#             reward = data.get(\"reward\", 0.0)\n",
    "#             done = data.get(\"done\", False)\n",
    "#             info = data.get(\"info\", {})\n",
    "#         except json.JSONDecodeError:\n",
    "#             state = {\"raw\": response}\n",
    "#             reward = 0.0\n",
    "#             done = False\n",
    "#             info = {\"error\": \"Non-JSON response\"}\n",
    "#         return state, reward, done, False, info\n",
    "\n",
    "#     def close(self):\n",
    "#         self.sock.sendall(\"stop\\n\".encode())\n",
    "#         self.sock.close()\n",
    "\n",
    "\n"
   ]
  },
  {
   "cell_type": "code",
   "execution_count": null,
   "id": "7363f8a4-4862-41a9-be57-e6caeae590d7",
   "metadata": {},
   "outputs": [],
   "source": [
    "# class MonopolyDealRLAgent:\n",
    "#     def __init__(self, host='localhost', port=27599, username='RLAgent'):\n",
    "#         self.sock = None\n",
    "#         self.host = host\n",
    "#         self.port = port\n",
    "#         self.username = username\n",
    "#         self.keep_alive_thread = None\n",
    "        \n",
    "#     def connect(self):\n",
    "#         \"\"\"Connect and login to server\"\"\"\n",
    "#         self.sock = socket.create_connection((self.host, self.port))\n",
    "        \n",
    "#         # Send PacketInitiateLogin (ID 2)\n",
    "#         self._send_packet(2, struct.pack(\">i\", 24))\n",
    "        \n",
    "#         # Send PacketLogin (ID 3)  \n",
    "#         uuid_bytes = uuid.uuid4().bytes\n",
    "#         client_version = \"1.0.0\"\n",
    "        \n",
    "#         payload = (\n",
    "#             struct.pack(\">i\", 24) +  # protocolVersion\n",
    "#             struct.pack(\">i\", len(client_version)) + client_version.encode('utf-16be') +  # clientVersion\n",
    "#             struct.pack(\">i\", 16) + uuid_bytes +  # id\n",
    "#             struct.pack(\">i\", len(self.username)) + self.username.encode('utf-16be')  # name\n",
    "#         )\n",
    "#         self._send_packet(3, payload)\n",
    "        \n",
    "#         # Start keep-alive to prevent timeout\n",
    "#         self._start_keep_alive()\n",
    "        \n",
    "#     def _send_packet(self, packet_id, payload):\n",
    "#         \"\"\"Send packet with header\"\"\"\n",
    "#         header = struct.pack(\">h\", packet_id) + struct.pack(\">i\", len(payload))\n",
    "#         self.sock.sendall(header + payload)\n",
    "        \n",
    "#     def _start_keep_alive(self):\n",
    "#         \"\"\"Start keep-alive thread to prevent timeout\"\"\"\n",
    "#         def keep_alive_loop():\n",
    "#             while True:\n",
    "#                 time.sleep(20)  # Send every 20 seconds\n",
    "#                 try:\n",
    "#                     self._send_packet(7, b'')  # PacketKeepConnected - ID 7\n",
    "#                 except:\n",
    "#                     break\n",
    "                    \n",
    "#         self.keep_alive_thread = threading.Thread(target=keep_alive_loop, daemon=True)\n",
    "#         self.keep_alive_thread.start()\n",
    "    \n",
    "#     # RL Agent methods\n",
    "#     def get_state(self):\n",
    "#         \"\"\"Parse incoming packets to get game state\"\"\"\n",
    "#         # You'll need to implement packet parsing here\n",
    "#         pass\n",
    "        \n",
    "#     def take_action(self, action_id, *args):\n",
    "#         \"\"\"Execute action in the game\"\"\"\n",
    "#         if action_id == 0:  # End turn\n",
    "#             self._send_packet(5, b'')  # PacketActionEndTurn\n",
    "#         elif action_id == 1:  # Draw card\n",
    "#             self._send_packet(6, b'')  # PacketActionDraw\n",
    "#         # ... map other actions\n",
    "        \n",
    "#     def close(self):\n",
    "#         \"\"\"Clean up\"\"\"\n",
    "#         if self.sock:\n",
    "#             self.sock.close()"
   ]
  },
  {
   "cell_type": "code",
   "execution_count": null,
   "id": "8b58566b-9c7f-4556-9a62-1a59f6bbb5bf",
   "metadata": {},
   "outputs": [],
   "source": []
  },
  {
   "cell_type": "code",
   "execution_count": null,
   "id": "1470d2d6-2147-4d15-ad46-0cb1eed85ac9",
   "metadata": {},
   "outputs": [],
   "source": []
  },
  {
   "cell_type": "code",
   "execution_count": null,
   "id": "0492e52f-85fe-4859-aacf-e233ba0453b1",
   "metadata": {},
   "outputs": [],
   "source": [
    "# # Send a simple command\n",
    "# sock.sendall(\"reset\\n\".encode())\n",
    "# time.sleep(0.5)  # Wait for response\n",
    "# response = sock.recv(4096).decode()\n",
    "# print(\"Response:\", response)"
   ]
  },
  {
   "cell_type": "code",
   "execution_count": null,
   "id": "53b4726e-1992-4af6-b0f1-cee492fe5a5f",
   "metadata": {},
   "outputs": [],
   "source": [
    "# sock.sendall(b\"addbot TestBot\\n\")  # Try adding a bot\n",
    "# time.sleep(0.5)\n",
    "# try:\n",
    "#     response = sock.recv(1024)\n",
    "#     print(\"Raw response (bytes):\", response)\n",
    "#     print(\"Decoded response:\", response.decode('utf-8', errors='replace'))\n",
    "# except socket.timeout:\n",
    "#     print(\"No response received within 5 seconds\")\n",
    "# sock.close()"
   ]
  },
  {
   "cell_type": "code",
   "execution_count": null,
   "id": "d8fab781-23a5-4fc9-bed4-4295ed6be120",
   "metadata": {},
   "outputs": [],
   "source": [
    "# # Send a minimal message to mimic client handshake\n",
    "# sock.sendall(b\"HELLO\\n\")  # Placeholder, adjust if protocol is known\n",
    "# time.sleep(0.5)"
   ]
  },
  {
   "cell_type": "code",
   "execution_count": null,
   "id": "8da67fac-d333-47ce-8c34-4b23a509c44b",
   "metadata": {},
   "outputs": [],
   "source": [
    "# try:\n",
    "#     response = sock.recv(1024)\n",
    "#     print(\"Raw response (bytes):\", response)\n",
    "#     print(\"Decoded response:\", response.decode('utf-8', errors='replace'))\n",
    "#     # Try addbot after potential handshake\n",
    "#     sock.sendall(b\"addbot TestBot\\n\")\n",
    "#     time.sleep(0.5)\n",
    "#     response = sock.recv(1024)\n",
    "#     print(\"Addbot response (bytes):\", response)\n",
    "#     print(\"Addbot decoded:\", response.decode('utf-8', errors='replace'))\n",
    "# except socket.timeout:\n",
    "#     print(\"No response received within 5 seconds\")\n",
    "# sock.close()"
   ]
  },
  {
   "cell_type": "code",
   "execution_count": null,
   "id": "c4008eed-8b28-4043-ab1e-6b120801a2d1",
   "metadata": {},
   "outputs": [],
   "source": []
  },
  {
   "cell_type": "code",
   "execution_count": null,
   "id": "89ed3fd4-24dc-40d8-a67b-3ab89db60a9e",
   "metadata": {},
   "outputs": [],
   "source": []
  },
  {
   "cell_type": "code",
   "execution_count": null,
   "id": "60b36d33-b8ca-47ca-87b7-71a994305c9f",
   "metadata": {},
   "outputs": [],
   "source": []
  },
  {
   "cell_type": "code",
   "execution_count": null,
   "id": "4851cc9e-fbea-4b39-a670-a5dd2d15f490",
   "metadata": {},
   "outputs": [],
   "source": []
  },
  {
   "cell_type": "code",
   "execution_count": null,
   "id": "bb252a42-d22f-464b-991d-2cdd11fbe28d",
   "metadata": {},
   "outputs": [],
   "source": [
    "# sock.close()"
   ]
  },
  {
   "cell_type": "code",
   "execution_count": null,
   "id": "d3f948ec-fd1c-4f2e-a5ec-fc3e392e2d45",
   "metadata": {},
   "outputs": [],
   "source": []
  },
  {
   "cell_type": "code",
   "execution_count": null,
   "id": "5dddc33c-f5d3-4613-bdb7-2c2f2285e227",
   "metadata": {},
   "outputs": [],
   "source": [
    "# env = MonopolyDealEnv()\n",
    "# state, info = env.reset()\n",
    "# print(\"Initial state:\", state)\n",
    "# next_state, reward, done, truncated, info = env.step(0)  # Example: nextturn\n",
    "# print(\"Next state:\", next_state, \"Reward:\", reward, \"Done:\", done, \"Info:\", info)\n",
    "# env.close()"
   ]
  },
  {
   "cell_type": "code",
   "execution_count": null,
   "id": "29887866-2f70-44dd-8d75-02c04cc51685",
   "metadata": {
    "scrolled": true
   },
   "outputs": [],
   "source": [
    "# client = MonopolyDealClient()\n",
    "\n",
    "# # Start the game\n",
    "# # deals 5 cards to all players\n",
    "# client.send(\"/start\")\n",
    "# print(client.receive())"
   ]
  },
  {
   "cell_type": "code",
   "execution_count": null,
   "id": "454e2a6e-3668-4a34-b306-94632e4edcbd",
   "metadata": {},
   "outputs": [],
   "source": [
    "# client.send(\"/addbot Bot1\")\n",
    "# print(client.receive())\n",
    "\n",
    "# client.send(\"/addbot Bot2\")\n",
    "# print(client.receive())"
   ]
  },
  {
   "cell_type": "code",
   "execution_count": null,
   "id": "89693b4a-f320-418f-8b7e-2a34c0cfc43f",
   "metadata": {},
   "outputs": [],
   "source": [
    "# def start_game(self):\n",
    "#     self.send(\"/start\")\n",
    "#     return self.receive()\n",
    "\n",
    "# def add_bot(self, name):\n",
    "#     self.send(f\"/addbot {name}\")\n",
    "#     return self.receive()\n"
   ]
  },
  {
   "cell_type": "code",
   "execution_count": null,
   "id": "48dfe262-10ae-410e-84ac-1106b6e26cff",
   "metadata": {},
   "outputs": [],
   "source": []
  },
  {
   "cell_type": "code",
   "execution_count": null,
   "id": "dac85b66-ee53-4094-b8c0-88df9be4693a",
   "metadata": {},
   "outputs": [],
   "source": []
  },
  {
   "cell_type": "code",
   "execution_count": null,
   "id": "b2e048de-d774-4e37-ab14-2d40b97bc49b",
   "metadata": {},
   "outputs": [],
   "source": []
  },
  {
   "cell_type": "code",
   "execution_count": null,
   "id": "af53ebb8-4add-41f1-832f-71584a05079b",
   "metadata": {},
   "outputs": [],
   "source": []
  }
 ],
 "metadata": {
  "kernelspec": {
   "display_name": "Python 3 (ipykernel)",
   "language": "python",
   "name": "python3"
  },
  "language_info": {
   "codemirror_mode": {
    "name": "ipython",
    "version": 3
   },
   "file_extension": ".py",
   "mimetype": "text/x-python",
   "name": "python",
   "nbconvert_exporter": "python",
   "pygments_lexer": "ipython3",
   "version": "3.9.18"
  }
 },
 "nbformat": 4,
 "nbformat_minor": 5
}
