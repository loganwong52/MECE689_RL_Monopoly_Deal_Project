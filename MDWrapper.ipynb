{
 "cells": [
  {
   "cell_type": "code",
   "execution_count": 1,
   "id": "4ec01e7a-f6b4-45ee-baf9-1096a4708049",
   "metadata": {},
   "outputs": [],
   "source": [
    "import os\n",
    "import socket\n",
    "import gymnasium as gym\n",
    "import json\n",
    "import time\n",
    "import subprocess\n",
    "import struct, sys, time\n",
    "import uuid\n",
    "\n",
    "from stable_baselines3 import PPO\n",
    "\n",
    "from stable_baselines3.common.monitor import Monitor\n",
    "from stable_baselines3.common.evaluation import evaluate_policy"
   ]
  },
  {
   "cell_type": "code",
   "execution_count": null,
   "id": "577c4552-64f6-4617-b07c-45e060649756",
   "metadata": {},
   "outputs": [],
   "source": [
    "# class MonopolyDealClient:\n",
    "#     def __init__(self, host='localhost', port=27599):\n",
    "#         self.host = host\n",
    "#         self.port = port\n",
    "#         self.sock = socket.socket(socket.AF_INET, socket.SOCK_STREAM)\n",
    "#         self.sock.connect((host, port))\n",
    "#         print(\"Connected to Monopoly Deal server!\")\n",
    "\n",
    "#     def send(self, message):\n",
    "#         self.sock.sendall((message + \"\\n\").encode())\n",
    "\n",
    "#     def receive(self):\n",
    "#         return self.sock.recv(4096).decode()\n",
    "\n",
    "#     def close(self):\n",
    "#         self.sock.close()\n"
   ]
  },
  {
   "cell_type": "code",
   "execution_count": null,
   "id": "6a8ecdee-85bb-4f57-9aa7-2f31b4247066",
   "metadata": {},
   "outputs": [],
   "source": [
    "# class MonopolyDealEnv(gym.Env):\n",
    "#     def __init__(self, host='localhost', port=12345):  # Adjust port based on server\n",
    "#         super().__init__()\n",
    "#         # Start the server (optional, if not running in another terminal)\n",
    "#         self.server_process = subprocess.Popen(['mvn', 'exec:java', '-pl', 'server'], cwd='server')\n",
    "#         # Connect to the server\n",
    "#         self.sock = socket.socket(socket.AF_INET, socket.SOCK_STREAM)\n",
    "#         self.sock.connect((host, port))\n",
    "#         # Define action and observation spaces (customize based on game)\n",
    "#         self.action_space = gym.spaces.Discrete(10)  # Example: 10 possible actions (e.g., play card 0-9)\n",
    "#         self.observation_space = gym.spaces.Dict({  # Example: game state as a dictionary\n",
    "#             \"board\": gym.spaces.Box(low=0, high=100, shape=(10,), dtype=int),\n",
    "#             \"hand\": gym.spaces.Box(low=0, high=100, shape=(5,), dtype=int)\n",
    "#         })\n",
    "\n",
    "#     def reset(self, seed=None, options=None):\n",
    "#         # Send reset command (adjust based on server protocol)\n",
    "#         self.sock.sendall(\"RESET\\n\".encode())  # Add \\n if server expects it\n",
    "#         response = self.sock.recv(1024).decode()\n",
    "#         try:\n",
    "#             state = json.loads(response)  # Assume JSON response\n",
    "#         except json.JSONDecodeError:\n",
    "#             state = response  # Fallback to raw text if not JSON\n",
    "#         return state, {}\n",
    "\n",
    "#     def step(self, action):\n",
    "#         # Send action (adjust format based on server)\n",
    "#         self.sock.sendall(f\"PLAY_CARD {action}\\n\".encode())\n",
    "#         response = self.sock.recv(1024).decode()\n",
    "#         try:\n",
    "#             data = json.loads(response)\n",
    "#             state = data.get(\"state\", {})\n",
    "#             reward = data.get(\"reward\", 0.0)\n",
    "#             done = data.get(\"done\", False)\n",
    "#             info = data.get(\"info\", {})\n",
    "#         except json.JSONDecodeError:\n",
    "#             # Fallback if response is not JSON\n",
    "#             state = response\n",
    "#             reward = 0.0\n",
    "#             done = False\n",
    "#             info = {}\n",
    "#         return state, reward, done, False, info\n",
    "\n",
    "#     def close(self):\n",
    "#         self.sock.close()\n",
    "#         if hasattr(self, 'server_process'):\n",
    "#             self.server_process.terminate()"
   ]
  },
  {
   "cell_type": "code",
   "execution_count": null,
   "id": "f5235d25-1d8a-462b-b87a-c713af08d8b6",
   "metadata": {},
   "outputs": [],
   "source": [
    "# class MonopolyDealEnv(gym.Env):\n",
    "#     def __init__(self, host='localhost', port=27599):\n",
    "#         super().__init__()\n",
    "#         self.sock = socket.socket(socket.AF_INET, socket.SOCK_STREAM)\n",
    "#         self.sock.connect((host, port))\n",
    "#         self.sock.sendall(\"addbot RLBot\\n\".encode())\n",
    "#         self.action_space = gym.spaces.Discrete(20)\n",
    "#         self.observation_space = gym.spaces.Dict({\n",
    "#             \"hand\": gym.spaces.Box(low=0, high=100, shape=(5,), dtype=int),\n",
    "#             \"board\": gym.spaces.Box(low=0, high=100, shape=(10,), dtype=int),\n",
    "#             \"turn\": gym.spaces.Discrete(4)\n",
    "#         })\n",
    "\n",
    "#     def reset(self, seed=None, options=None):\n",
    "#         self.sock.sendall(\"reset\\n\".encode())\n",
    "#         time.sleep(0.1)\n",
    "#         response = self.sock.recv(4096).decode()\n",
    "#         try:\n",
    "#             state = json.loads(response)\n",
    "#         except json.JSONDecodeError:\n",
    "#             state = {\"raw\": response}\n",
    "#         self.sock.sendall(\"start\\n\".encode())\n",
    "#         time.sleep(0.1)\n",
    "#         response = self.sock.recv(4096).decode()\n",
    "#         try:\n",
    "#             state = json.loads(response)\n",
    "#         except json.JSONDecodeError:\n",
    "#             state = {\"raw\": response}\n",
    "#         return state, {}\n",
    "\n",
    "#     def step(self, action):\n",
    "#         commands = {0: \"nextturn\", 1: \"createcard action dealbreaker\"}\n",
    "#         command = commands.get(action, f\"PLAY_CARD {action}\")\n",
    "#         self.sock.sendall(f\"{command}\\n\".encode())\n",
    "#         time.sleep(0.1)\n",
    "#         response = self.sock.recv(4096).decode()\n",
    "#         try:\n",
    "#             data = json.loads(response)\n",
    "#             state = data.get(\"state\", {})\n",
    "#             reward = data.get(\"reward\", 0.0)\n",
    "#             done = data.get(\"done\", False)\n",
    "#             info = data.get(\"info\", {})\n",
    "#         except json.JSONDecodeError:\n",
    "#             state = {\"raw\": response}\n",
    "#             reward = 0.0\n",
    "#             done = False\n",
    "#             info = {\"error\": \"Non-JSON response\"}\n",
    "#         return state, reward, done, False, info\n",
    "\n",
    "#     def close(self):\n",
    "#         self.sock.sendall(\"stop\\n\".encode())\n",
    "#         self.sock.close()\n",
    "\n",
    "\n"
   ]
  },
  {
   "cell_type": "code",
   "execution_count": null,
   "id": "aa385ca7-304c-47b2-9334-a6ae7a592504",
   "metadata": {},
   "outputs": [],
   "source": []
  },
  {
   "cell_type": "code",
   "execution_count": null,
   "id": "a6a2a66b-13bc-49b3-8118-5635d9cb58db",
   "metadata": {},
   "outputs": [],
   "source": [
    "# Simple example to test the connection works\n",
    "# client = MonopolyDealClient()\n",
    "# client.send(\"HELLO\")\n",
    "# print(client.receive())\n",
    "# client.close()"
   ]
  },
  {
   "cell_type": "code",
   "execution_count": 2,
   "id": "04dac6e2-277c-4f5e-8f74-120c0b8b5309",
   "metadata": {},
   "outputs": [],
   "source": [
    "HOST = \"127.0.0.1\"\n",
    "PORT = 27599"
   ]
  },
  {
   "cell_type": "code",
   "execution_count": null,
   "id": "461290fc-71d7-4cad-8c04-5a6235cdbd61",
   "metadata": {},
   "outputs": [],
   "source": [
    "# Connect to server\n",
    "# sock = socket.socket(socket.AF_INET, socket.SOCK_STREAM)\n",
    "# sock.connect(('localhost', 27599))\n",
    "# print(\"Connected to server\")"
   ]
  },
  {
   "cell_type": "code",
   "execution_count": 10,
   "id": "bb15b659-c515-40bd-923d-ff19efc3aede",
   "metadata": {},
   "outputs": [],
   "source": [
    "def write_utf(s):\n",
    "    encoded = s.encode(\"utf-8\")\n",
    "    length = len(encoded)\n",
    "    return length.to_bytes(2, byteorder=\"big\") + encoded\n"
   ]
  },
  {
   "cell_type": "code",
   "execution_count": 11,
   "id": "5dce8268-311b-4f56-83e7-636baebdc52d",
   "metadata": {},
   "outputs": [
    {
     "name": "stdout",
     "output_type": "stream",
     "text": [
      "Sent PacketInitiateLogin(protocolVersion=24)\n",
      "Received packet id: 4 payload length: 24\n",
      "Payload bytes: b'\\x00\\x00\\x00\\x18\\x00\\x00\\x00\\x10n/\\xd5\\x0f\\x9e\\xb6\\xb1\\xe7X5l\\x1a\\x02$\\xbc\\xab'\n"
     ]
    }
   ],
   "source": [
    "# PacketInitiateLogin ID = 2 (registered order in NetHandler), protocolVersion = 24\n",
    "PACKET_ID = 2\n",
    "PROTOCOL_VERSION = 24\n",
    "\n",
    "sock = socket.create_connection((HOST, PORT))\n",
    "\n",
    "# build payload: single int (protocolVersion)\n",
    "payload = struct.pack(\">i\", PROTOCOL_VERSION)\n",
    "payload_len = len(payload)\n",
    "\n",
    "# Header as separate fields, not combined struct\n",
    "header = struct.pack(\">h\", PACKET_ID) + struct.pack(\">i\", payload_len)\n",
    "msg = header + payload\n",
    "\n",
    "sock.sendall(msg)\n",
    "print(\"Sent PacketInitiateLogin(protocolVersion=24)\")\n",
    "\n",
    "# try to read a response header (2 bytes id + 4 bytes len)\n",
    "hdr = sock.recv(6)\n",
    "if len(hdr) < 6:\n",
    "    print(\"No response header received (got bytes):\", hdr)\n",
    "else:\n",
    "    pkt_id, pkt_len = struct.unpack(\">hI\", hdr)\n",
    "    print(\"Received packet id:\", pkt_id, \"payload length:\", pkt_len)\n",
    "    if pkt_len:\n",
    "        data = b''\n",
    "        while len(data) < pkt_len:\n",
    "            chunk = sock.recv(pkt_len - len(data))\n",
    "            if not chunk:\n",
    "                break\n",
    "            data += chunk\n",
    "        print(\"Payload bytes:\", data)\n",
    "\n",
    "# keep socket open\n"
   ]
  },
  {
   "cell_type": "code",
   "execution_count": null,
   "id": "0365aff3-7033-4e3a-bcfa-9cde7ec2fab5",
   "metadata": {},
   "outputs": [],
   "source": [
    "# # payload is whatever you just received for packet id 4\n",
    "# protocol_version = int.from_bytes(payload[0:4], \"big\")\n",
    "# # everything after the first 4 bytes\n",
    "# server_key_bytes = payload[4:]\n",
    "\n",
    "# print(\"Protocol:\", protocol_version)\n",
    "# print(\"Server key bytes:\", server_key_bytes)"
   ]
  },
  {
   "cell_type": "code",
   "execution_count": 9,
   "id": "c6c4cc07-ea58-43a9-b8da-24e43bc3828b",
   "metadata": {},
   "outputs": [
    {
     "name": "stdout",
     "output_type": "stream",
     "text": [
      "Payload length: 52\n",
      "Client version payload: 000000050031002e0030002e0030\n",
      "Name payload: 00000005004c006f00670061006e\n",
      "Sent PacketLogin with corrected string format!\n",
      "Received packet id: 39 payload length: 8\n",
      "Login response payload: 0000000100000000\n"
     ]
    }
   ],
   "source": [
    "# PacketLogin ID = 3\n",
    "PACKET_ID = 3\n",
    "CLIENT_VERSION = \"1.0.0\"\n",
    "PLAYER_NAME = \"Logan\"\n",
    "UUID_BYTES = uuid.uuid4().bytes\n",
    "\n",
    "# 1. protocolVersion (int)\n",
    "proto_bytes = struct.pack(\">i\", PROTOCOL_VERSION)\n",
    "\n",
    "# 2. clientVersion (String) - FIXED: int length prefix + UTF-16BE chars\n",
    "client_version_chars = CLIENT_VERSION.encode('utf-16be')\n",
    "client_version_payload = struct.pack(\">i\", len(CLIENT_VERSION)) + client_version_chars  # int length, not short\n",
    "\n",
    "# 3. id (byte[] - 16 bytes)\n",
    "id_payload = struct.pack(\">i\", 16) + UUID_BYTES  # Length prefix (16) + 16 bytes of UUID\n",
    "\n",
    "# 4. name (String) - FIXED: int length prefix + UTF-16BE chars  \n",
    "name_chars = PLAYER_NAME.encode('utf-16be')\n",
    "name_payload = struct.pack(\">i\", len(PLAYER_NAME)) + name_chars  # int length, not short\n",
    "\n",
    "# Combine all fields\n",
    "payload = proto_bytes + client_version_payload + id_payload + name_payload\n",
    "\n",
    "# Header: packet ID (short) + payload length (int)\n",
    "header = struct.pack(\">h\", PACKET_ID) + struct.pack(\">i\", len(payload))\n",
    "msg = header + payload\n",
    "\n",
    "print(f\"Payload length: {len(payload)}\")\n",
    "print(f\"Client version payload: {client_version_payload.hex()}\")\n",
    "print(f\"Name payload: {name_payload.hex()}\")\n",
    "\n",
    "# Send the login packet\n",
    "sock.sendall(msg)\n",
    "print(\"Sent PacketLogin with corrected string format!\")\n",
    "\n",
    "# Read response\n",
    "hdr = sock.recv(6)\n",
    "if len(hdr) == 6:\n",
    "    pkt_id = struct.unpack(\">h\", hdr[:2])[0]\n",
    "    pkt_len = struct.unpack(\">i\", hdr[2:6])[0]\n",
    "    print(\"Received packet id:\", pkt_id, \"payload length:\", pkt_len)\n",
    "    \n",
    "    if pkt_len > 0:\n",
    "        data = b''\n",
    "        while len(data) < pkt_len:\n",
    "            chunk = sock.recv(pkt_len - len(data))\n",
    "            if not chunk:\n",
    "                break\n",
    "            data += chunk\n",
    "        print(\"Login response payload:\", data.hex())\n",
    "    else:\n",
    "        print(\"Login successful (no payload)\")"
   ]
  },
  {
   "cell_type": "code",
   "execution_count": null,
   "id": "d0d6eda0-b18b-4fcd-a77c-c12f95385631",
   "metadata": {},
   "outputs": [],
   "source": []
  },
  {
   "cell_type": "code",
   "execution_count": null,
   "id": "7d031d3d-f19b-4b40-bdec-f889a76552fc",
   "metadata": {},
   "outputs": [],
   "source": [
    "# Send over socket\n",
    "sock.sendall(msg)\n",
    "print(\"Sent!\")\n",
    "\n",
    "# Optionally read server response\n",
    "hdr = sock.recv(6)\n",
    "if len(hdr) == 6:\n",
    "    pkt_id, pkt_len = struct.unpack(\">hI\", hdr)\n",
    "    print(\"Received packet id:\", pkt_id, \"payload length:\", pkt_len)\n",
    "    data = b''\n",
    "    while len(data) < pkt_len:\n",
    "        chunk = sock.recv(pkt_len - len(data))\n",
    "        if not chunk:\n",
    "            break\n",
    "        data += chunk\n",
    "    print(\"Payload bytes:\", data)\n"
   ]
  },
  {
   "cell_type": "code",
   "execution_count": null,
   "id": "fb7ed517-9fed-41f6-ab1c-86d359e5d6f4",
   "metadata": {},
   "outputs": [],
   "source": []
  },
  {
   "cell_type": "code",
   "execution_count": null,
   "id": "d1ee796d-6280-4b8b-8d9d-bec9efad142a",
   "metadata": {},
   "outputs": [],
   "source": []
  },
  {
   "cell_type": "code",
   "execution_count": null,
   "id": "27b6a8a9-d4ca-4de9-a198-4e6cfc43afa2",
   "metadata": {},
   "outputs": [],
   "source": []
  },
  {
   "cell_type": "code",
   "execution_count": null,
   "id": "a242fb2b-7829-4a84-9628-d17e315ce8bd",
   "metadata": {},
   "outputs": [],
   "source": []
  },
  {
   "cell_type": "code",
   "execution_count": null,
   "id": "a9c208fd-faf9-4ada-9135-a30850ef8ee0",
   "metadata": {},
   "outputs": [],
   "source": [
    "# 2) Build PacketLogin\n",
    "# Packet ID for PacketLogin comes from NetHandler order.\n",
    "# Looking at NetHandler.java, PacketInitiateLogin is 2, PacketLogin is 3.\n",
    "PACKET_LOGIN_ID = 3\n",
    "\n",
    "player_name = \"RLAgent\"\n",
    "player_name_bytes = player_name.encode(\"utf-8\")\n",
    "\n",
    "# format = [string length (int32)] + [string bytes] + [raw key bytes]\n",
    "login_payload = struct.pack(\">I\", len(player_name_bytes)) + player_name_bytes + server_key\n",
    "\n",
    "# Prepend packet ID (short) and payload length (int)\n",
    "packet = struct.pack(\">hI\", PACKET_LOGIN_ID, len(login_payload)) + login_payload"
   ]
  },
  {
   "cell_type": "code",
   "execution_count": null,
   "id": "12a15ac4-f083-40d9-83e2-a079a7407e0f",
   "metadata": {},
   "outputs": [],
   "source": [
    "print(\"Player name length:\", len(player_name_bytes))\n",
    "print(\"Server key length:\", len(server_key))\n",
    "print(\"Total payload length:\", len(login_payload))"
   ]
  },
  {
   "cell_type": "code",
   "execution_count": null,
   "id": "65f94e75-22f0-454a-9946-336ceb53d193",
   "metadata": {},
   "outputs": [],
   "source": [
    "# Example usage:\n",
    "player_name = \"example_player_name\"\n",
    "server_key_bytes = b'n/\\xd5\\x0f\\x9e\\xb6\\xb1\\xe7X5l\\x1a\\x02$\\xbc\\xab'\n",
    "\n",
    "payload = write_utf(player_name) + server_key_bytes  # server_key_bytes is the 16-byte key you received\n",
    "print(payload)"
   ]
  },
  {
   "cell_type": "code",
   "execution_count": null,
   "id": "660e837c-f8eb-4fd3-b5df-392ca1709022",
   "metadata": {},
   "outputs": [],
   "source": [
    "packet_id = 3  # adjust to actual registered ID\n",
    "packet_bytes = packet_id.to_bytes(2, byteorder=\"big\") + len(payload).to_bytes(4, byteorder=\"big\") + payload"
   ]
  },
  {
   "cell_type": "code",
   "execution_count": null,
   "id": "ad674dd7-c930-4e3f-88e3-c8e97363b0b4",
   "metadata": {},
   "outputs": [],
   "source": []
  },
  {
   "cell_type": "code",
   "execution_count": null,
   "id": "5ab186ca-01c7-456f-9d81-32c3814cedcd",
   "metadata": {},
   "outputs": [],
   "source": [
    "# 3) Send it to the server\n",
    "sock.sendall(packet)\n",
    "print(\"Sent PacketLogin with name\", player_name)"
   ]
  },
  {
   "cell_type": "code",
   "execution_count": null,
   "id": "0492e52f-85fe-4859-aacf-e233ba0453b1",
   "metadata": {},
   "outputs": [],
   "source": [
    "# # Send a simple command\n",
    "# sock.sendall(\"reset\\n\".encode())\n",
    "# time.sleep(0.5)  # Wait for response\n",
    "# response = sock.recv(4096).decode()\n",
    "# print(\"Response:\", response)"
   ]
  },
  {
   "cell_type": "code",
   "execution_count": null,
   "id": "53b4726e-1992-4af6-b0f1-cee492fe5a5f",
   "metadata": {},
   "outputs": [],
   "source": [
    "# sock.sendall(b\"addbot TestBot\\n\")  # Try adding a bot\n",
    "# time.sleep(0.5)\n",
    "# try:\n",
    "#     response = sock.recv(1024)\n",
    "#     print(\"Raw response (bytes):\", response)\n",
    "#     print(\"Decoded response:\", response.decode('utf-8', errors='replace'))\n",
    "# except socket.timeout:\n",
    "#     print(\"No response received within 5 seconds\")\n",
    "# sock.close()"
   ]
  },
  {
   "cell_type": "code",
   "execution_count": null,
   "id": "d8fab781-23a5-4fc9-bed4-4295ed6be120",
   "metadata": {},
   "outputs": [],
   "source": [
    "# # Send a minimal message to mimic client handshake\n",
    "# sock.sendall(b\"HELLO\\n\")  # Placeholder, adjust if protocol is known\n",
    "# time.sleep(0.5)"
   ]
  },
  {
   "cell_type": "code",
   "execution_count": null,
   "id": "8da67fac-d333-47ce-8c34-4b23a509c44b",
   "metadata": {},
   "outputs": [],
   "source": [
    "# try:\n",
    "#     response = sock.recv(1024)\n",
    "#     print(\"Raw response (bytes):\", response)\n",
    "#     print(\"Decoded response:\", response.decode('utf-8', errors='replace'))\n",
    "#     # Try addbot after potential handshake\n",
    "#     sock.sendall(b\"addbot TestBot\\n\")\n",
    "#     time.sleep(0.5)\n",
    "#     response = sock.recv(1024)\n",
    "#     print(\"Addbot response (bytes):\", response)\n",
    "#     print(\"Addbot decoded:\", response.decode('utf-8', errors='replace'))\n",
    "# except socket.timeout:\n",
    "#     print(\"No response received within 5 seconds\")\n",
    "# sock.close()"
   ]
  },
  {
   "cell_type": "code",
   "execution_count": null,
   "id": "c4008eed-8b28-4043-ab1e-6b120801a2d1",
   "metadata": {},
   "outputs": [],
   "source": []
  },
  {
   "cell_type": "code",
   "execution_count": null,
   "id": "89ed3fd4-24dc-40d8-a67b-3ab89db60a9e",
   "metadata": {},
   "outputs": [],
   "source": []
  },
  {
   "cell_type": "code",
   "execution_count": null,
   "id": "60b36d33-b8ca-47ca-87b7-71a994305c9f",
   "metadata": {},
   "outputs": [],
   "source": []
  },
  {
   "cell_type": "code",
   "execution_count": null,
   "id": "4851cc9e-fbea-4b39-a670-a5dd2d15f490",
   "metadata": {},
   "outputs": [],
   "source": []
  },
  {
   "cell_type": "code",
   "execution_count": null,
   "id": "4014bc29-8d6c-41fc-9be7-7f72ddf70bb2",
   "metadata": {},
   "outputs": [],
   "source": [
    "# # Try another command\n",
    "# sock.sendall(\"start\\n\".encode())\n",
    "# time.sleep(0.5)\n",
    "# response = sock.recv(4096).decode()\n",
    "# print(\"Response:\", response)"
   ]
  },
  {
   "cell_type": "code",
   "execution_count": null,
   "id": "bb252a42-d22f-464b-991d-2cdd11fbe28d",
   "metadata": {},
   "outputs": [],
   "source": [
    "# sock.close()"
   ]
  },
  {
   "cell_type": "code",
   "execution_count": null,
   "id": "d3f948ec-fd1c-4f2e-a5ec-fc3e392e2d45",
   "metadata": {},
   "outputs": [],
   "source": []
  },
  {
   "cell_type": "code",
   "execution_count": null,
   "id": "5dddc33c-f5d3-4613-bdb7-2c2f2285e227",
   "metadata": {},
   "outputs": [],
   "source": [
    "env = MonopolyDealEnv()\n",
    "state, info = env.reset()\n",
    "print(\"Initial state:\", state)\n",
    "next_state, reward, done, truncated, info = env.step(0)  # Example: nextturn\n",
    "print(\"Next state:\", next_state, \"Reward:\", reward, \"Done:\", done, \"Info:\", info)\n",
    "env.close()"
   ]
  },
  {
   "cell_type": "code",
   "execution_count": null,
   "id": "29887866-2f70-44dd-8d75-02c04cc51685",
   "metadata": {
    "scrolled": true
   },
   "outputs": [],
   "source": [
    "client = MonopolyDealClient()\n",
    "\n",
    "# Start the game\n",
    "# deals 5 cards to all players\n",
    "client.send(\"/start\")\n",
    "print(client.receive())"
   ]
  },
  {
   "cell_type": "code",
   "execution_count": null,
   "id": "454e2a6e-3668-4a34-b306-94632e4edcbd",
   "metadata": {},
   "outputs": [],
   "source": [
    "client.send(\"/addbot Bot1\")\n",
    "print(client.receive())\n",
    "\n",
    "client.send(\"/addbot Bot2\")\n",
    "print(client.receive())"
   ]
  },
  {
   "cell_type": "code",
   "execution_count": null,
   "id": "89693b4a-f320-418f-8b7e-2a34c0cfc43f",
   "metadata": {},
   "outputs": [],
   "source": [
    "def start_game(self):\n",
    "    self.send(\"/start\")\n",
    "    return self.receive()\n",
    "\n",
    "def add_bot(self, name):\n",
    "    self.send(f\"/addbot {name}\")\n",
    "    return self.receive()\n"
   ]
  },
  {
   "cell_type": "code",
   "execution_count": null,
   "id": "48dfe262-10ae-410e-84ac-1106b6e26cff",
   "metadata": {},
   "outputs": [],
   "source": []
  },
  {
   "cell_type": "code",
   "execution_count": null,
   "id": "dac85b66-ee53-4094-b8c0-88df9be4693a",
   "metadata": {},
   "outputs": [],
   "source": []
  },
  {
   "cell_type": "code",
   "execution_count": null,
   "id": "b2e048de-d774-4e37-ab14-2d40b97bc49b",
   "metadata": {},
   "outputs": [],
   "source": []
  },
  {
   "cell_type": "code",
   "execution_count": null,
   "id": "af53ebb8-4add-41f1-832f-71584a05079b",
   "metadata": {},
   "outputs": [],
   "source": []
  }
 ],
 "metadata": {
  "kernelspec": {
   "display_name": "Python 3 (ipykernel)",
   "language": "python",
   "name": "python3"
  },
  "language_info": {
   "codemirror_mode": {
    "name": "ipython",
    "version": 3
   },
   "file_extension": ".py",
   "mimetype": "text/x-python",
   "name": "python",
   "nbconvert_exporter": "python",
   "pygments_lexer": "ipython3",
   "version": "3.9.18"
  }
 },
 "nbformat": 4,
 "nbformat_minor": 5
}
