{
 "cells": [
  {
   "cell_type": "code",
   "execution_count": 6,
   "id": "6864d9bd-9e47-4fb4-b972-95b16fd26fec",
   "metadata": {},
   "outputs": [
    {
     "name": "stdout",
     "output_type": "stream",
     "text": [
      "1.1.1\n"
     ]
    }
   ],
   "source": [
    "import gymnasium as gym\n",
    "from gymnasium import spaces\n",
    "import numpy as np\n",
    "import subprocess\n",
    "import os\n",
    "import time\n",
    "\n",
    "\n",
    "\n",
    "print(gym.__version__)"
   ]
  },
  {
   "cell_type": "code",
   "execution_count": null,
   "id": "72864a85-6109-4e6d-a500-831bda394137",
   "metadata": {},
   "outputs": [],
   "source": []
  },
  {
   "cell_type": "code",
   "execution_count": null,
   "id": "b1b55674-5eab-4535-b081-285299d7a3f9",
   "metadata": {},
   "outputs": [],
   "source": []
  },
  {
   "cell_type": "code",
   "execution_count": null,
   "id": "7f5fa071-eb44-410d-8832-288885361ce4",
   "metadata": {},
   "outputs": [],
   "source": []
  },
  {
   "cell_type": "code",
   "execution_count": 2,
   "id": "169033b3-f077-4cb2-8d48-895d493571f7",
   "metadata": {},
   "outputs": [],
   "source": [
    "class MonopolyDealEnv(gym.Env):\n",
    "    def __init__(self):\n",
    "        super(MonopolyDealEnv, self).__init__()\n",
    "\n",
    "        # Define action space aka Possible Actions\n",
    "        # Placeholder: 20 possible actions\n",
    "        self.action_space = spaces.Discrete(20)\n",
    "        \n",
    "        # Define observation space aka Game State\n",
    "        self.observation_space = spaces.Dict({\n",
    "            # Placeholder: 5 cards\n",
    "            \"hand\": spaces.Box(low=0, high=100, shape=(5,), dtype=int),  \n",
    "            # Placeholder: board state\n",
    "            \"board\": spaces.Box(low=0, high=100, shape=(10,), dtype=int),  \n",
    "            # Placeholder: up to 5 players\n",
    "            \"turn\": spaces.Discrete(5)  \n",
    "        })\n",
    "\n",
    "    def reset(self, seed=None, options=None):\n",
    "        # Placeholder state\n",
    "        return {\"hand\": [0]*5, \"board\": [0]*10, \"turn\": 0}, {}  \n",
    "\n",
    "    def step(self, action):\n",
    "        # Placeholder\n",
    "        return {\"hand\": [0]*5, \"board\": [0]*10, \"turn\": 0}, 0.0, False, False, {}  \n",
    "\n",
    "    def close(self):\n",
    "        pass"
   ]
  },
  {
   "cell_type": "code",
   "execution_count": 3,
   "id": "bc53f195-a0c8-4b86-a4a1-f38d1400fb3a",
   "metadata": {},
   "outputs": [
    {
     "name": "stdout",
     "output_type": "stream",
     "text": [
      "Initial state: {'hand': [0, 0, 0, 0, 0], 'board': [0, 0, 0, 0, 0, 0, 0, 0, 0, 0], 'turn': 0}\n"
     ]
    }
   ],
   "source": [
    "env = MonopolyDealEnv()\n",
    "state, info = env.reset()\n",
    "print(\"Initial state:\", state)"
   ]
  },
  {
   "cell_type": "code",
   "execution_count": null,
   "id": "cf240ac6-60be-4bb4-b846-d3c6a891a8a1",
   "metadata": {},
   "outputs": [],
   "source": []
  },
  {
   "cell_type": "code",
   "execution_count": null,
   "id": "588bc3b1-4a3f-4d25-b2ed-69fffd4b155b",
   "metadata": {},
   "outputs": [],
   "source": []
  },
  {
   "cell_type": "code",
   "execution_count": 19,
   "id": "2ebf7fcc-4fe3-4170-bc69-223b860267da",
   "metadata": {},
   "outputs": [
    {
     "name": "stdout",
     "output_type": "stream",
     "text": [
      "Compile return code: None\n",
      "Server started with PID: 75708\n"
     ]
    }
   ],
   "source": [
    "mvn = 'C:\\\\Program Files\\\\Apache\\\\Maven\\\\apache-maven-3.9.11\\\\bin\\\\mvn.cmd'\n",
    "\n",
    "# Start server as subprocess\n",
    "server = subprocess.Popen(\n",
    "    [mvn, 'exec:java', '-pl', 'server'],\n",
    "    cwd='.',\n",
    "    # stdin=subprocess.PIPE,\n",
    "    # stdout=subprocess.PIPE,\n",
    "    # stderr=subprocess.PIPE,\n",
    "    text=True\n",
    ")\n",
    "# print(\"Server started\")\n",
    "\n",
    "# stdout, stderr = server.communicate()\n",
    "# print(\"Compile return code:\", server.returncode)\n",
    "# print(\"STDOUT:\", stdout)\n",
    "# print(\"STDERR:\", stderr)\n",
    "\n",
    "print(\"Server started with PID:\", server.pid)"
   ]
  },
  {
   "cell_type": "code",
   "execution_count": 5,
   "id": "c4e66cba-84a2-483e-baed-7b7b3e4d821b",
   "metadata": {},
   "outputs": [],
   "source": [
    "# # Send addbot command\n",
    "# server.stdin.write(\"/addbot TestBot\\n\")\n",
    "# server.stdin.flush()\n",
    "# # Read server output\n",
    "# output = server.stdout.readline()\n",
    "# print(\"Server output:\", output)\n",
    "server.terminate()"
   ]
  },
  {
   "cell_type": "code",
   "execution_count": null,
   "id": "16ab5b9d-3f8b-4229-9747-85cb9a36fb14",
   "metadata": {},
   "outputs": [],
   "source": []
  },
  {
   "cell_type": "code",
   "execution_count": null,
   "id": "f4f1ff04-6989-4387-a362-07ec300579c7",
   "metadata": {},
   "outputs": [],
   "source": []
  }
 ],
 "metadata": {
  "kernelspec": {
   "display_name": "Python 3 (ipykernel)",
   "language": "python",
   "name": "python3"
  },
  "language_info": {
   "codemirror_mode": {
    "name": "ipython",
    "version": 3
   },
   "file_extension": ".py",
   "mimetype": "text/x-python",
   "name": "python",
   "nbconvert_exporter": "python",
   "pygments_lexer": "ipython3",
   "version": "3.9.18"
  }
 },
 "nbformat": 4,
 "nbformat_minor": 5
}
