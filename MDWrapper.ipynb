{
 "cells": [
  {
   "cell_type": "code",
   "execution_count": 1,
   "id": "4ec01e7a-f6b4-45ee-baf9-1096a4708049",
   "metadata": {},
   "outputs": [],
   "source": [
    "import socket"
   ]
  },
  {
   "cell_type": "code",
   "execution_count": 2,
   "id": "577c4552-64f6-4617-b07c-45e060649756",
   "metadata": {},
   "outputs": [],
   "source": [
    "class MonopolyDealClient:\n",
    "    def __init__(self, host='localhost', port=27599):\n",
    "        self.host = host\n",
    "        self.port = port\n",
    "        self.sock = socket.socket(socket.AF_INET, socket.SOCK_STREAM)\n",
    "        self.sock.connect((host, port))\n",
    "        print(\"Connected to Monopoly Deal server!\")\n",
    "\n",
    "    def send(self, message):\n",
    "        self.sock.sendall((message + \"\\n\").encode())\n",
    "\n",
    "    def receive(self):\n",
    "        return self.sock.recv(4096).decode()\n",
    "\n",
    "    def close(self):\n",
    "        self.sock.close()\n"
   ]
  },
  {
   "cell_type": "code",
   "execution_count": null,
   "id": "6a8ecdee-85bb-4f57-9aa7-2f31b4247066",
   "metadata": {},
   "outputs": [],
   "source": []
  },
  {
   "cell_type": "code",
   "execution_count": null,
   "id": "f5235d25-1d8a-462b-b87a-c713af08d8b6",
   "metadata": {},
   "outputs": [],
   "source": []
  },
  {
   "cell_type": "code",
   "execution_count": 5,
   "id": "a6a2a66b-13bc-49b3-8118-5635d9cb58db",
   "metadata": {},
   "outputs": [],
   "source": [
    "# Simple example to test the connection works\n",
    "# client = MonopolyDealClient()\n",
    "# client.send(\"HELLO\")\n",
    "# print(client.receive())\n",
    "# client.close()"
   ]
  },
  {
   "cell_type": "code",
   "execution_count": 14,
   "id": "29887866-2f70-44dd-8d75-02c04cc51685",
   "metadata": {
    "scrolled": true
   },
   "outputs": [
    {
     "name": "stdout",
     "output_type": "stream",
     "text": [
      "Connected to Monopoly Deal server!\n",
      "\n"
     ]
    }
   ],
   "source": [
    "client = MonopolyDealClient()\n",
    "\n",
    "# Start the game\n",
    "# deals 5 cards to all players\n",
    "client.send(\"/start\")\n",
    "print(client.receive())"
   ]
  },
  {
   "cell_type": "code",
   "execution_count": 15,
   "id": "454e2a6e-3668-4a34-b306-94632e4edcbd",
   "metadata": {},
   "outputs": [
    {
     "ename": "ConnectionAbortedError",
     "evalue": "[WinError 10053] An established connection was aborted by the software in your host machine",
     "output_type": "error",
     "traceback": [
      "\u001b[1;31m---------------------------------------------------------------------------\u001b[0m",
      "\u001b[1;31mConnectionAbortedError\u001b[0m                    Traceback (most recent call last)",
      "Cell \u001b[1;32mIn[15], line 2\u001b[0m\n\u001b[0;32m      1\u001b[0m client\u001b[38;5;241m.\u001b[39msend(\u001b[38;5;124m\"\u001b[39m\u001b[38;5;124m/addbot Bot1\u001b[39m\u001b[38;5;124m\"\u001b[39m)\n\u001b[1;32m----> 2\u001b[0m \u001b[38;5;28mprint\u001b[39m(\u001b[43mclient\u001b[49m\u001b[38;5;241;43m.\u001b[39;49m\u001b[43mreceive\u001b[49m\u001b[43m(\u001b[49m\u001b[43m)\u001b[49m)\n\u001b[0;32m      4\u001b[0m client\u001b[38;5;241m.\u001b[39msend(\u001b[38;5;124m\"\u001b[39m\u001b[38;5;124m/addbot Bot2\u001b[39m\u001b[38;5;124m\"\u001b[39m)\n\u001b[0;32m      5\u001b[0m \u001b[38;5;28mprint\u001b[39m(client\u001b[38;5;241m.\u001b[39mreceive())\n",
      "Cell \u001b[1;32mIn[2], line 13\u001b[0m, in \u001b[0;36mMonopolyDealClient.receive\u001b[1;34m(self)\u001b[0m\n\u001b[0;32m     12\u001b[0m \u001b[38;5;28;01mdef\u001b[39;00m\u001b[38;5;250m \u001b[39m\u001b[38;5;21mreceive\u001b[39m(\u001b[38;5;28mself\u001b[39m):\n\u001b[1;32m---> 13\u001b[0m     \u001b[38;5;28;01mreturn\u001b[39;00m \u001b[38;5;28;43mself\u001b[39;49m\u001b[38;5;241;43m.\u001b[39;49m\u001b[43msock\u001b[49m\u001b[38;5;241;43m.\u001b[39;49m\u001b[43mrecv\u001b[49m\u001b[43m(\u001b[49m\u001b[38;5;241;43m4096\u001b[39;49m\u001b[43m)\u001b[49m\u001b[38;5;241m.\u001b[39mdecode()\n",
      "\u001b[1;31mConnectionAbortedError\u001b[0m: [WinError 10053] An established connection was aborted by the software in your host machine"
     ]
    }
   ],
   "source": [
    "client.send(\"/addbot Bot1\")\n",
    "print(client.receive())\n",
    "\n",
    "client.send(\"/addbot Bot2\")\n",
    "print(client.receive())"
   ]
  },
  {
   "cell_type": "code",
   "execution_count": null,
   "id": "89693b4a-f320-418f-8b7e-2a34c0cfc43f",
   "metadata": {},
   "outputs": [],
   "source": [
    "def start_game(self):\n",
    "    self.send(\"/start\")\n",
    "    return self.receive()\n",
    "\n",
    "def add_bot(self, name):\n",
    "    self.send(f\"/addbot {name}\")\n",
    "    return self.receive()\n"
   ]
  },
  {
   "cell_type": "code",
   "execution_count": null,
   "id": "48dfe262-10ae-410e-84ac-1106b6e26cff",
   "metadata": {},
   "outputs": [],
   "source": []
  },
  {
   "cell_type": "code",
   "execution_count": null,
   "id": "dac85b66-ee53-4094-b8c0-88df9be4693a",
   "metadata": {},
   "outputs": [],
   "source": []
  },
  {
   "cell_type": "code",
   "execution_count": null,
   "id": "b2e048de-d774-4e37-ab14-2d40b97bc49b",
   "metadata": {},
   "outputs": [],
   "source": []
  },
  {
   "cell_type": "code",
   "execution_count": null,
   "id": "af53ebb8-4add-41f1-832f-71584a05079b",
   "metadata": {},
   "outputs": [],
   "source": []
  }
 ],
 "metadata": {
  "kernelspec": {
   "display_name": "Python 3 (ipykernel)",
   "language": "python",
   "name": "python3"
  },
  "language_info": {
   "codemirror_mode": {
    "name": "ipython",
    "version": 3
   },
   "file_extension": ".py",
   "mimetype": "text/x-python",
   "name": "python",
   "nbconvert_exporter": "python",
   "pygments_lexer": "ipython3",
   "version": "3.9.18"
  }
 },
 "nbformat": 4,
 "nbformat_minor": 5
}
