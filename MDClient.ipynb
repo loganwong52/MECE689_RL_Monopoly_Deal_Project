{
 "cells": [
  {
   "cell_type": "code",
   "execution_count": 68,
   "id": "4ec01e7a-f6b4-45ee-baf9-1096a4708049",
   "metadata": {},
   "outputs": [],
   "source": [
    "import os\n",
    "import socket\n",
    "import gymnasium as gym\n",
    "from gym import spaces\n",
    "\n",
    "import json\n",
    "import time\n",
    "import subprocess\n",
    "import struct, sys, time\n",
    "import uuid\n",
    "import threading\n",
    "import gzip\n",
    "import numpy as np\n",
    "\n",
    "from stable_baselines3 import PPO\n",
    "\n",
    "from stable_baselines3.common.monitor import Monitor\n",
    "from stable_baselines3.common.evaluation import evaluate_policy"
   ]
  },
  {
   "cell_type": "code",
   "execution_count": null,
   "id": "aa385ca7-304c-47b2-9334-a6ae7a592504",
   "metadata": {},
   "outputs": [],
   "source": []
  },
  {
   "cell_type": "code",
   "execution_count": null,
   "id": "36bb7dc0-94ab-489d-8079-b78a78766c04",
   "metadata": {},
   "outputs": [],
   "source": []
  },
  {
   "cell_type": "code",
   "execution_count": null,
   "id": "04dac6e2-277c-4f5e-8f74-120c0b8b5309",
   "metadata": {},
   "outputs": [],
   "source": []
  },
  {
   "cell_type": "code",
   "execution_count": 3,
   "id": "bb15b659-c515-40bd-923d-ff19efc3aede",
   "metadata": {},
   "outputs": [],
   "source": [
    "def write_utf(s):\n",
    "    encoded = s.encode(\"utf-8\")\n",
    "    length = len(encoded)\n",
    "    return length.to_bytes(2, byteorder=\"big\") + encoded"
   ]
  },
  {
   "cell_type": "code",
   "execution_count": 4,
   "id": "bfd52031-f6a0-40aa-b581-863b02dc7e00",
   "metadata": {},
   "outputs": [],
   "source": [
    "packet_dict = {\n",
    "    \"PacketPing\": 1,\n",
    "    \"PacketInitiateLogin\": 2,  # Used this\n",
    "    \"PacketLogin\": 3,          # Used this\n",
    "    \"PacketServerInfo\": 4,\n",
    "    \"PacketHandshake\": 5,\n",
    "    \"PacketKick\": 6,\n",
    "    \"PacketQuit\": 7,\n",
    "    \"PacketKeepConnected\": 8,    # Might need this\n",
    "    \"PacketMessage\": 9,\n",
    "    \"PacketPropertyColors\": 10,\n",
    "    \"PacketCardCollectionData\": 11,\n",
    "    \"PacketCardData\": 12,\n",
    "    \"PacketCardActionRentData\": 13,    # ACTION\n",
    "    \"PacketCardDescription\": 14,       # ACTION\n",
    "    \"PacketCardPropertyData\": 15,     \n",
    "    \"PacketCardBuildingData\": 16,\n",
    "    \"PacketDestroyCardCollection\": 17,\n",
    "    \"PacketDestroyCard\": 18,\n",
    "    \"PacketPropertySetColor\": 19,\n",
    "    \"PacketStatus\": 20,\n",
    "    \"PacketMoveCard\": 21,              # ACTION\n",
    "    \"PacketMovePropertySet\": 22,       # ACTION?\n",
    "    \"PacketMoveRevealCard\": 23,        # ACTION?\n",
    "    \"PacketMoveUnknownCard\": 24,\n",
    "    \"PacketPlayerInfo\": 25,\n",
    "    \"PacketPropertySetData\": 26,\n",
    "    \"PacketUpdatePlayer\": 27,\n",
    "    \"PacketDestroyPlayer\": 28,\n",
    "    \"PacketRefresh\": 29,\n",
    "    \"PacketUnknownCardCollectionData\": 30,\n",
    "    \"PacketUndoCardStatus\": 31,\n",
    "    \"PacketSoundData\": 32,\n",
    "    \"PacketPlaySound\": 33,\n",
    "    \"PacketPlayerButton\": 34,\n",
    "    \"PacketDestroyButton\": 35,\n",
    "    \"PacketInfoPlate\": 36,\n",
    "    \"PacketDestroyInfoPlate\": 37,\n",
    "    \"PacketCardButtons\": 38,\n",
    "    \"PacketTurnOrder\": 39,\n",
    "    \"PacketGameRules\": 40,\n",
    "    \"PacketSetChatOpen\": 41,\n",
    "    \"PacketRemoveMessageCategory\": 42,\n",
    "    \"PacketSelectCardCombo\": 43,           # ACTION\n",
    "    \"PacketSetAwaitingResponse\": 44,\n",
    "    \"PacketChat\": 45,\n",
    "    \"PacketActionAccept\": 46,\n",
    "    \"PacketActionDraw\": 47,                 # ACTION\n",
    "    \"PacketActionEndTurn\": 48,              # ACTION\n",
    "    \"PacketActionMoveProperty\": 49,         # ACTION\n",
    "    \"PacketActionChangeSetColor\": 50,       # ACTION\n",
    "    \"PacketActionPay\": 51,                  # ACTION\n",
    "    \"PacketActionPlayCardBuilding\": 52,     # ACTION\n",
    "    \"PacketActionDiscard\": 53,              # ACTION\n",
    "    \"PacketActionSelectPlayer\": 54,         \n",
    "    \"PacketActionSelectProperties\": 55,       \n",
    "    \"PacketActionSelectPlayerMonopoly\": 56,\n",
    "    \"PacketActionUndoCard\": 57,\n",
    "    \"PacketActionClickLink\": 58,\n",
    "    \"PacketActionButtonClick\": 59,\n",
    "    \"PacketActionUseCardButton\": 60,\n",
    "    \"PacketActionRemoveBuilding\": 61,           # ACTION\n",
    "    \"PacketActionSelectCardCombo\": 62,          # ACTION\n",
    "    \"PacketActionMoveHandCard\": 63,             # ACTION\n",
    "    \"PacketSoundCache\": 64,\n",
    "    \"PacketActionStatePlayerTurn\": 65,\n",
    "    \"PacketActionStateBasic\": 66,\n",
    "    \"PacketActionStateRent\": 67,\n",
    "    \"PacketActionStatePropertiesSelected\": 68,\n",
    "    \"PacketActionStatePropertySetTargeted\": 69,\n",
    "    \"PacketUpdateActionStateTarget\": 70\n",
    "}"
   ]
  },
  {
   "cell_type": "code",
   "execution_count": 5,
   "id": "4b776d13-cafb-4440-b121-0572c3a87c69",
   "metadata": {},
   "outputs": [],
   "source": [
    "def send_keep_alive(sock):\n",
    "    \"\"\"Send keep-alive packet to prevent timeout\"\"\"\n",
    "    # PacketKeepConnected is likely ID 7 (check your NetHandler order)\n",
    "    KEEP_CONNECTED_ID = 8\n",
    "    \n",
    "    header = struct.pack(\">h\", 8) + struct.pack(\">i\", 0)  # No payload\n",
    "    sock.sendall(header)\n",
    "    # print(\"Sent keep-alive packet\")"
   ]
  },
  {
   "cell_type": "code",
   "execution_count": 6,
   "id": "5735f605-aa45-44e0-bceb-7b80646dde0a",
   "metadata": {},
   "outputs": [],
   "source": [
    "def start_keep_alive_loop(sock, interval=20):\n",
    "    \"\"\"Send keep-alive packets regularly\"\"\"\n",
    "    while True:\n",
    "        time.sleep(interval)\n",
    "        try:\n",
    "            send_keep_alive(sock)\n",
    "        except:\n",
    "            break  # Stop if connection is lost"
   ]
  },
  {
   "cell_type": "code",
   "execution_count": null,
   "id": "e7ff5362-9126-4bab-b63e-f11241c5ed83",
   "metadata": {},
   "outputs": [],
   "source": []
  },
  {
   "cell_type": "code",
   "execution_count": null,
   "id": "6b876db6-725d-4b7f-8320-9eb65fd050fa",
   "metadata": {},
   "outputs": [],
   "source": []
  },
  {
   "cell_type": "code",
   "execution_count": 35,
   "id": "3aa0b215-0cf3-4e06-86e5-3d3ac60dd143",
   "metadata": {
    "scrolled": true
   },
   "outputs": [],
   "source": [
    "class MDClient:\n",
    "    def __init__(self, host, port, player_name, version, protocol_version):\n",
    "        self.host = host\n",
    "        self.port = port\n",
    "        self.player_name = player_name\n",
    "        self.version = version\n",
    "        self.protocol_version = protocol_version\n",
    "\n",
    "        self.sock = socket.create_connection((self.host, self.port))\n",
    "        self._login()\n",
    "\n",
    "    \n",
    "    def _login(self):\n",
    "        # build payload: single int (protocol_version)\n",
    "        payload = struct.pack(\">i\", self.protocol_version)\n",
    "        payload_len = len(payload)\n",
    "        \n",
    "        # Header as separate fields, not combined struct\n",
    "        # Packet ID is 2\n",
    "        header = struct.pack(\">h\", packet_dict[\"PacketInitiateLogin\"]) + struct.pack(\">i\", payload_len)\n",
    "        msg = header + payload\n",
    "        \n",
    "        self.sock.sendall(msg)\n",
    "        print(f\"Sent PacketInitiateLogin({self.protocol_version})\")\n",
    "        \n",
    "        # try to read a response header (2 bytes id + 4 bytes len)\n",
    "        hdr = self.sock.recv(6)\n",
    "        if len(hdr) < 6:\n",
    "            print(\"No response header received (got bytes):\", hdr)\n",
    "        else:\n",
    "            pkt_id, pkt_len = struct.unpack(\">hI\", hdr)\n",
    "            print(\"Received packet id:\", pkt_id, \"payload length:\", pkt_len)\n",
    "            if pkt_len:\n",
    "                data = b''\n",
    "                while len(data) < pkt_len:\n",
    "                    chunk = self.sock.recv(pkt_len - len(data))\n",
    "                    if not chunk:\n",
    "                        break\n",
    "                    data += chunk\n",
    "                print(\"Payload bytes:\", data)        \n",
    "        # wait for response\n",
    "        # send PacketLogin (ID=3)\n",
    "        UUID_BYTES = uuid.uuid4().bytes\n",
    "        \n",
    "        # 1. protocol_version (int)\n",
    "        proto_bytes = struct.pack(\">i\", self.protocol_version)\n",
    "        \n",
    "        # 2. clientVersion (String) - FIXED: int length prefix + UTF-16BE chars\n",
    "        client_version_chars = self.version.encode('utf-16be')\n",
    "        client_version_payload = struct.pack(\">i\", len(self.version)) + client_version_chars  # int length, not short\n",
    "        \n",
    "        # 3. id (byte[] - 16 bytes)\n",
    "        id_payload = struct.pack(\">i\", 16) + UUID_BYTES  # Length prefix (16) + 16 bytes of UUID\n",
    "        \n",
    "        # 4. name (String) - FIXED: int length prefix + UTF-16BE chars  \n",
    "        name_chars = self.player_name.encode('utf-16be')\n",
    "        name_payload = struct.pack(\">i\", len(self.player_name)) + name_chars  # int length, not short\n",
    "        \n",
    "        # Combine all fields\n",
    "        payload = proto_bytes + client_version_payload + id_payload + name_payload\n",
    "        \n",
    "        # Header: packet ID (short) + payload length (int)\n",
    "        # Packet ID is 3\n",
    "        header = struct.pack(\">h\", packet_dict[\"PacketLogin\"]) + struct.pack(\">i\", len(payload))\n",
    "        msg = header + payload\n",
    "        \n",
    "        print(f\"Payload length: {len(payload)}\")\n",
    "        print(f\"Client version payload: {client_version_payload.hex()}\")\n",
    "        print(f\"Name payload: {name_payload.hex()}\")\n",
    "\n",
    "        # Send the login packet\n",
    "        self.sock.sendall(msg)\n",
    "        print(\"Sent PacketLogin with corrected string format!\")\n",
    "        \n",
    "        # Read response\n",
    "        hdr = self.sock.recv(6)\n",
    "        if len(hdr) == 6:\n",
    "            pkt_id = struct.unpack(\">h\", hdr[:2])[0]\n",
    "            pkt_len = struct.unpack(\">i\", hdr[2:6])[0]\n",
    "            print(\"Received packet id:\", pkt_id, \"payload length:\", pkt_len)\n",
    "            \n",
    "            if pkt_len > 0:\n",
    "                data = b''\n",
    "                while len(data) < pkt_len:\n",
    "                    chunk = self.sock.recv(pkt_len - len(data))\n",
    "                    if not chunk:\n",
    "                        break\n",
    "                    data += chunk\n",
    "                print(\"Login response payload:\", data.hex())\n",
    "            else:\n",
    "                print(\"Login successful (no payload)\")\n",
    "                \n",
    "        # start keep-alive thread\n",
    "        keep_alive_thread = threading.Thread(\n",
    "            target=start_keep_alive_loop, \n",
    "            args=(self.sock,), \n",
    "            daemon=True\n",
    "        )\n",
    "        keep_alive_thread.start()\n",
    "        print(\"Eternally connected\")\n",
    "\n",
    "\n",
    "\n",
    "#############################################################################\n",
    "    def send_chat_command(self, command):\n",
    "        \"\"\"Send a server command via chat (requires OP permissions first)\"\"\"\n",
    "        message_bytes = command.encode('utf-16be')\n",
    "        payload = struct.pack(\">i\", len(command)) + message_bytes\n",
    "        header = struct.pack(\">h\", packet_dict[\"PacketChat\"]) + struct.pack(\">i\", len(payload)) \n",
    "        self.sock.sendall(header + payload)\n",
    "    \n",
    "    def send_action(self, action_id: int, payload: bytes = b\"\") -> bytes:\n",
    "        \"\"\"\n",
    "        Sends an action packet to the server.\n",
    "        action_id: the packet ID for this action\n",
    "        payload: bytes of the action payload\n",
    "        Returns the server's response payload (if any)\n",
    "        \"\"\"\n",
    "        header = struct.pack(\">hI\", action_id, len(payload))\n",
    "        self.sock.sendall(header + payload)\n",
    "\n",
    "        # read response header (6 bytes)\n",
    "        hdr = self.sock.recv(6)\n",
    "        if len(hdr) < 6:\n",
    "            return b\"\"\n",
    "\n",
    "        pkt_id, pkt_len = struct.unpack(\">hI\", hdr)\n",
    "        data = b\"\"\n",
    "        while len(data) < pkt_len:\n",
    "            chunk = self.sock.recv(pkt_len - len(data))\n",
    "            if not chunk:\n",
    "                break\n",
    "            data += chunk\n",
    "        return data\n",
    "\n",
    "\n",
    "    def recv_packet(self):\n",
    "        hdr = self.sock.recv(6)\n",
    "        if not hdr:\n",
    "            return None, None\n",
    "        pkt_id, pkt_len = struct.unpack(\">hI\", hdr)\n",
    "        payload = self.sock.recv(pkt_len) if pkt_len > 0 else b\"\"\n",
    "        return pkt_id, payload\n"
   ]
  },
  {
   "cell_type": "code",
   "execution_count": null,
   "id": "f58d11ab-23f3-4c6b-8992-6b7edb1a2ead",
   "metadata": {},
   "outputs": [],
   "source": []
  },
  {
   "cell_type": "code",
   "execution_count": null,
   "id": "454f7b88-8d8e-472c-80f6-ba68126c6b94",
   "metadata": {},
   "outputs": [],
   "source": []
  },
  {
   "cell_type": "code",
   "execution_count": null,
   "id": "8e99b2d9-2118-4f3b-94a4-8d040a1321ab",
   "metadata": {},
   "outputs": [],
   "source": []
  },
  {
   "cell_type": "code",
   "execution_count": 63,
   "id": "6f74730d-d51e-41df-81b8-71380f9c3deb",
   "metadata": {},
   "outputs": [],
   "source": [
    "class MonopolyDealEnv(gym.Env):\n",
    "    def __init__(self):\n",
    "        super(MonopolyDealEnv, self).__init__()\n",
    "\n",
    "        # Connect to server via socket\n",
    "        HOST = \"127.0.0.1\"\n",
    "        PORT = 27599\n",
    "        PLAYER_NAME = \"RLAgent\"\n",
    "        CLIENT_VERSION = \"1.0.0\"\n",
    "        PROTOCOL_VERSION = 24\n",
    "\n",
    "        # Initialize client. Login is part of this.\n",
    "        self.client = MDClient(HOST, PORT, PLAYER_NAME, CLIENT_VERSION, PROTOCOL_VERSION)\n",
    "        \n",
    "        # Define what actions are available\n",
    "        self.action_space = spaces.Discrete(3)\n",
    "\n",
    "        self.action_meanings={\n",
    "            0: \"DRAW_CARD\",  # PacketActionDraw, ID: 47\n",
    "            1: \"END_TURN\",   # PacketActionEndTurn, ID: 48\n",
    "            2: \"DO_NOTHING\", # wait\n",
    "        }\n",
    "        \n",
    "        # Define what the agent can observe\n",
    "        self.observation_space = spaces.Dict({\n",
    "            \"hand\": spaces.Box(low=0, high=100, shape=(5,), dtype=int),  \n",
    "            \"board\": spaces.Box(low=0, high=100, shape=(10,), dtype=int),  \n",
    "            \"turn\": spaces.Discrete(5)  \n",
    "        })\n",
    "\n",
    "    def step(self, action):\n",
    "        # Execute the chosen action\n",
    "        if action == 0:  # DRAW_CARD\n",
    "            self.client.send_action(47, b\"\")  # PacketActionDraw\n",
    "            print(\"Action: Drew card\")\n",
    "            \n",
    "        elif action == 1:  # END_TURN  \n",
    "            self.client.send_action(48, b\"\")  # PacketActionEndTurn\n",
    "            print(\"Action: Ended turn\")\n",
    "            \n",
    "        # action == 2 does nothing\n",
    "        elif action == 2:\n",
    "            print(\"Action: Wait\")\n",
    "\n",
    "        else:\n",
    "            pass\n",
    "        \n",
    "        # TODO: Get actual observation from server\n",
    "        obs = np.zeros(10, dtype=np.float32)\n",
    "        reward = 0.0\n",
    "        done = False\n",
    "        \n",
    "        return obs, reward, done, False, {}\n",
    "        \n",
    "        return obs, reward, done, False, {}\n",
    "\n",
    "    def reset(self, seed=None, options=None):\n",
    "        \"\"\"Reset the game environment and return initial observation\"\"\"\n",
    "        # Send reset command to server\n",
    "        self.client.send_chat_command(\"/reset\")\n",
    "        time.sleep(1)  # Wait for reset to complete\n",
    "        \n",
    "        # Send start command to begin new game\n",
    "        self.client.send_chat_command(\"/start\") \n",
    "        time.sleep(2)  # Wait for game to start\n",
    "        \n",
    "        # Get initial game state (you'll implement this next)\n",
    "        initial_obs = self._get_observation()\n",
    "        \n",
    "        return initial_obs, {}\n",
    "    \n",
    "    def close(self):\n",
    "        self.client.sock.close()\n",
    "\n",
    "\n",
    "    def _get_observation(self):\n",
    "        \"\"\"Get current game state observation\"\"\"\n",
    "        # TODO: Parse actual game state from server packets\n",
    "        # For now, return placeholder\n",
    "        return {\"hand\": [0]*5, \"board\": [0]*10, \"turn\": 0}\n"
   ]
  },
  {
   "cell_type": "code",
   "execution_count": 65,
   "id": "14347d4b-814a-474e-9f9b-8426f511dc12",
   "metadata": {},
   "outputs": [
    {
     "name": "stdout",
     "output_type": "stream",
     "text": [
      "Sent PacketInitiateLogin(24)\n",
      "Received packet id: 4 payload length: 24\n",
      "Payload bytes: b'\\x00\\x00\\x00\\x18\\x00\\x00\\x00\\x10n/\\xd5\\x0f\\x9e\\xb6\\xb1\\xe7X5l\\x1a\\x02$\\xbc\\xab'\n",
      "Payload length: 56\n",
      "Client version payload: 000000050031002e0030002e0030\n",
      "Name payload: 000000070052004c004100670065006e0074\n",
      "Sent PacketLogin with corrected string format!\n",
      "Received packet id: 39 payload length: 8\n",
      "Login response payload: 0000000100000000\n",
      "Eternally connected\n",
      "environment started\n"
     ]
    }
   ],
   "source": [
    "env = MonopolyDealEnv()\n",
    "print(\"environment started\")\n",
    "# I THINK only run this cell ONCE"
   ]
  },
  {
   "cell_type": "code",
   "execution_count": 59,
   "id": "856cbdfa-7d9d-42dc-a048-6cc833189bb5",
   "metadata": {},
   "outputs": [],
   "source": [
    "# obs, info = env.reset()\n",
    "# print(\"Game reset complete. Initial observation:\\n\", obs)"
   ]
  },
  {
   "cell_type": "code",
   "execution_count": 60,
   "id": "aa7f2db2-67f3-4bbb-8389-69d8f3beb0a4",
   "metadata": {},
   "outputs": [],
   "source": [
    "# env.client.send_chat_command(f\"/op {env.client.player_name}\")\n",
    "# print(\"Gave RLAgent op status\")"
   ]
  },
  {
   "cell_type": "code",
   "execution_count": 66,
   "id": "ea48e746-4063-4a6f-8ab4-da5370964ca2",
   "metadata": {},
   "outputs": [
    {
     "name": "stdout",
     "output_type": "stream",
     "text": [
      "Started game\n"
     ]
    }
   ],
   "source": [
    "env.client.send_chat_command(\"/start\")\n",
    "print(\"Started game\")"
   ]
  },
  {
   "cell_type": "code",
   "execution_count": 74,
   "id": "86531083-15ae-441d-960b-b6998229a79b",
   "metadata": {},
   "outputs": [
    {
     "name": "stdout",
     "output_type": "stream",
     "text": [
      "Draw action sent to server!\n"
     ]
    }
   ],
   "source": [
    "# PacketActionDraw ID: 47\n",
    "\n",
    "# Test drawing a card\n",
    "obs, reward, done, truncated, info = env.step(0)\n",
    "print(\"Draw action sent to server!\")"
   ]
  },
  {
   "cell_type": "code",
   "execution_count": 75,
   "id": "dbc14407-198d-4819-8e93-d5116ca68316",
   "metadata": {},
   "outputs": [
    {
     "name": "stdout",
     "output_type": "stream",
     "text": [
      "End Turn action sent to server!\n"
     ]
    }
   ],
   "source": [
    "obs, reward, done, truncated, info = env.step(1)\n",
    "print(\"End Turn action sent to server!\")"
   ]
  },
  {
   "cell_type": "code",
   "execution_count": null,
   "id": "4939134e-dac9-4813-80ef-711a44017876",
   "metadata": {},
   "outputs": [],
   "source": []
  },
  {
   "cell_type": "code",
   "execution_count": 69,
   "id": "3607d408-fef6-426f-ab3f-c1d0f44635d8",
   "metadata": {},
   "outputs": [],
   "source": [
    "# Train without watching - focus on algorithm\n",
    "# model = PPO(\"MlpPolicy\", env, verbose=1)\n",
    "# model.learn(total_timesteps=10000)  # Train without GUI"
   ]
  },
  {
   "cell_type": "code",
   "execution_count": null,
   "id": "2528f0c5-2142-471c-a3e2-7e1baa69b6f7",
   "metadata": {},
   "outputs": [],
   "source": []
  },
  {
   "cell_type": "code",
   "execution_count": null,
   "id": "820acf2e-0a3d-4b0e-8ac0-83e2c388c049",
   "metadata": {},
   "outputs": [],
   "source": []
  },
  {
   "cell_type": "code",
   "execution_count": null,
   "id": "e58ad330-39f7-4d7c-aafd-fda1a2840dd7",
   "metadata": {},
   "outputs": [],
   "source": []
  },
  {
   "cell_type": "code",
   "execution_count": null,
   "id": "0781adc4-e4ea-4d54-bc90-cb5c82c0e2dc",
   "metadata": {},
   "outputs": [],
   "source": []
  },
  {
   "cell_type": "code",
   "execution_count": null,
   "id": "01c3cf1f-5e85-429d-b034-029f814b7bb7",
   "metadata": {},
   "outputs": [],
   "source": [
    "# First make yourself OP, then add bot\n",
    "# Give yourself OP permissions\n",
    "# send_chat_command(sock, f\"/op {self.player_name}\")"
   ]
  },
  {
   "cell_type": "code",
   "execution_count": null,
   "id": "df773ed4-046e-4b87-a490-905b474c5947",
   "metadata": {},
   "outputs": [],
   "source": [
    "# Add a bot named EasyBot\n",
    "# send_chat_command(sock, \"/addbot Bot1\")"
   ]
  },
  {
   "cell_type": "code",
   "execution_count": null,
   "id": "ff2037cf-27ae-4faa-a1bf-b2f74393b554",
   "metadata": {},
   "outputs": [],
   "source": [
    "# send_chat_command(sock, \"/kick Logan\")"
   ]
  },
  {
   "cell_type": "code",
   "execution_count": null,
   "id": "fdcce23f-069f-4fec-814f-7ef922f54041",
   "metadata": {},
   "outputs": [],
   "source": [
    "# Send command to start the game\n",
    "# send_chat_command(sock, \"/start\")"
   ]
  },
  {
   "cell_type": "code",
   "execution_count": null,
   "id": "2e491e2f-3a27-4f4e-9e5e-0c712159f361",
   "metadata": {},
   "outputs": [],
   "source": [
    "# Have your bot check the turn order\n",
    "# send_chat_command(sock, \"/listplayers\")"
   ]
  },
  {
   "cell_type": "code",
   "execution_count": null,
   "id": "8b3015fc-69c7-4319-9a43-ab5cc18df37e",
   "metadata": {},
   "outputs": [],
   "source": [
    "# send_chat_command(sock, \"/nextturn\")"
   ]
  },
  {
   "cell_type": "code",
   "execution_count": null,
   "id": "a3043058-222f-47af-a63c-7c8cd30e755b",
   "metadata": {},
   "outputs": [],
   "source": []
  },
  {
   "cell_type": "code",
   "execution_count": null,
   "id": "61b91994-4f4a-406d-b497-25d0fb54b32b",
   "metadata": {},
   "outputs": [],
   "source": []
  },
  {
   "cell_type": "code",
   "execution_count": null,
   "id": "24a4bb88-6933-4363-82a2-e56048dcd7f0",
   "metadata": {},
   "outputs": [],
   "source": []
  },
  {
   "cell_type": "code",
   "execution_count": null,
   "id": "f3b03752-607f-4c46-b1c4-9926342fdcf0",
   "metadata": {},
   "outputs": [],
   "source": []
  },
  {
   "cell_type": "code",
   "execution_count": null,
   "id": "8b58566b-9c7f-4556-9a62-1a59f6bbb5bf",
   "metadata": {},
   "outputs": [],
   "source": []
  },
  {
   "cell_type": "code",
   "execution_count": null,
   "id": "1470d2d6-2147-4d15-ad46-0cb1eed85ac9",
   "metadata": {},
   "outputs": [],
   "source": []
  },
  {
   "cell_type": "code",
   "execution_count": null,
   "id": "c4008eed-8b28-4043-ab1e-6b120801a2d1",
   "metadata": {},
   "outputs": [],
   "source": []
  },
  {
   "cell_type": "code",
   "execution_count": null,
   "id": "89ed3fd4-24dc-40d8-a67b-3ab89db60a9e",
   "metadata": {},
   "outputs": [],
   "source": []
  },
  {
   "cell_type": "code",
   "execution_count": null,
   "id": "60b36d33-b8ca-47ca-87b7-71a994305c9f",
   "metadata": {},
   "outputs": [],
   "source": []
  },
  {
   "cell_type": "code",
   "execution_count": null,
   "id": "4851cc9e-fbea-4b39-a670-a5dd2d15f490",
   "metadata": {},
   "outputs": [],
   "source": []
  },
  {
   "cell_type": "code",
   "execution_count": null,
   "id": "d3f948ec-fd1c-4f2e-a5ec-fc3e392e2d45",
   "metadata": {},
   "outputs": [],
   "source": []
  },
  {
   "cell_type": "code",
   "execution_count": null,
   "id": "48dfe262-10ae-410e-84ac-1106b6e26cff",
   "metadata": {},
   "outputs": [],
   "source": []
  },
  {
   "cell_type": "code",
   "execution_count": null,
   "id": "dac85b66-ee53-4094-b8c0-88df9be4693a",
   "metadata": {},
   "outputs": [],
   "source": []
  },
  {
   "cell_type": "code",
   "execution_count": null,
   "id": "b2e048de-d774-4e37-ab14-2d40b97bc49b",
   "metadata": {},
   "outputs": [],
   "source": []
  },
  {
   "cell_type": "code",
   "execution_count": null,
   "id": "af53ebb8-4add-41f1-832f-71584a05079b",
   "metadata": {},
   "outputs": [],
   "source": []
  }
 ],
 "metadata": {
  "kernelspec": {
   "display_name": "Python 3 (ipykernel)",
   "language": "python",
   "name": "python3"
  },
  "language_info": {
   "codemirror_mode": {
    "name": "ipython",
    "version": 3
   },
   "file_extension": ".py",
   "mimetype": "text/x-python",
   "name": "python",
   "nbconvert_exporter": "python",
   "pygments_lexer": "ipython3",
   "version": "3.9.18"
  }
 },
 "nbformat": 4,
 "nbformat_minor": 5
}
